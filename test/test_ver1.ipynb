{
 "cells": [
  {
   "cell_type": "code",
   "execution_count": 1,
   "metadata": {
    "ExecuteTime": {
     "end_time": "2021-04-01T09:43:44.400304Z",
     "start_time": "2021-04-01T09:43:44.359412Z"
    }
   },
   "outputs": [
    {
     "name": "stdout",
     "output_type": "stream",
     "text": [
      "E:\\py_strict_list\n"
     ]
    }
   ],
   "source": [
    "%cd .."
   ]
  },
  {
   "cell_type": "code",
   "execution_count": 2,
   "metadata": {
    "ExecuteTime": {
     "end_time": "2021-04-01T09:43:44.495049Z",
     "start_time": "2021-04-01T09:43:44.412271Z"
    }
   },
   "outputs": [],
   "source": [
    "import unittest"
   ]
  },
  {
   "cell_type": "code",
   "execution_count": 3,
   "metadata": {
    "ExecuteTime": {
     "end_time": "2021-04-01T09:43:44.618718Z",
     "start_time": "2021-04-01T09:43:44.514995Z"
    }
   },
   "outputs": [],
   "source": [
    "from py_strict_list import StructureStrictList, TypeStrictList, LengthStrictList"
   ]
  },
  {
   "cell_type": "code",
   "execution_count": 4,
   "metadata": {
    "ExecuteTime": {
     "end_time": "2021-04-01T09:43:44.650632Z",
     "start_time": "2021-04-01T09:43:44.629690Z"
    }
   },
   "outputs": [],
   "source": [
    "from py_strict_list import StructureInvalidError"
   ]
  },
  {
   "cell_type": "code",
   "execution_count": 5,
   "metadata": {
    "ExecuteTime": {
     "end_time": "2021-04-01T09:43:44.951384Z",
     "start_time": "2021-04-01T09:43:44.670582Z"
    }
   },
   "outputs": [],
   "source": [
    "class TestSSL(unittest.TestCase):\n",
    "    def test_constructor(self):\n",
    "        with self.assertRaises(StructureInvalidError):\n",
    "            StructureStrictList([1,2],2)\n",
    "        with self.assertRaises(StructureInvalidError):\n",
    "            StructureStrictList([1,2],[3,4,5])    \n",
    "        with self.assertRaises(StructureInvalidError):\n",
    "            StructureStrictList([1,2],[\"a\",\"b\"])\n",
    "        with self.assertRaises(StructureInvalidError):\n",
    "            StructureStrictList([[[1,2],[2]],[[3,4],[1,2]]])\n",
    "        with self.assertRaises(StructureInvalidError):\n",
    "            StructureStrictList(\"1\",1)\n",
    "            \n",
    "        StructureStrictList([[1,2],[3,4]])\n",
    "        \n",
    "    def test_structures(self):\n",
    "        x = StructureStrictList([1,2],[3,4])\n",
    "        self.assertEqual(x.length_structure, {2:{2:None}})\n",
    "        self.assertEqual(x.type_structure, [[int]])\n",
    "        \n",
    "    \n",
    "    def test_check_save_structure_with(self):\n",
    "        x = StructureStrictList([1,2],[3,4])\n",
    "        self.assertTrue(x.check_same_structure_with([[5,6],[7,8],[9,10]]))\n",
    "        self.assertFalse(x.check_same_structure_with([3,4]))\n",
    "        self.assertFalse(x.check_same_structure_with([[\"a\",\"b\"],[\"c\",\"d\"]]))\n",
    "        \n",
    "        self.assertFalse(x.check_same_structure_with([[5,6],[7,8],[9,10]], \n",
    "                                                     include_outer_length=True))\n",
    "        \n",
    "        self.assertTrue(x.check_same_structure_with([[5,6],[7,8],[9,10]], \n",
    "                                                    include_outer_length=False))        \n",
    "    \n",
    "    def test_check_item_structure(self):\n",
    "        x = StructureStrictList([1,2],[3,4])\n",
    "        self.assertTrue(x.check_item_structure([5,6]))\n",
    "        self.assertFalse(x.check_item_structure([7,8,9]))\n",
    "        self.assertFalse(x.check_item_structure(5))\n",
    "        self.assertFalse(x.check_item_structure([\"a\",\"b\"]))\n",
    "        \n",
    "    def test_list_method_add(self):\n",
    "        x = StructureStrictList([1,2],[3,4])\n",
    "        with self.assertRaises(StructureInvalidError):\n",
    "            x.append(2)\n",
    "        with self.assertRaises(StructureInvalidError):\n",
    "            x.append([\"a\",\"b\"])\n",
    "        with self.assertRaises(StructureInvalidError):\n",
    "            x.append([[1,2]])\n",
    "        with self.assertRaises(StructureInvalidError):\n",
    "            x.append([1,2,3])\n",
    "        \n",
    "        x.append([1,2])\n",
    "        \n",
    "        with self.assertRaises(StructureInvalidError):\n",
    "            x.extend([1,2])\n",
    "        with self.assertRaises(StructureInvalidError):\n",
    "            x.extend([[1,2],[\"a\", \"b\"]])\n",
    "        with self.assertRaises(StructureInvalidError):\n",
    "            x.extend([[1,2],[3,4,5]])  \n",
    "            \n",
    "        x.extend([[11,12],[23,34]])\n",
    "        \n",
    "        \n",
    "        with self.assertRaises(StructureInvalidError):\n",
    "            x.insert(0,2)\n",
    "        with self.assertRaises(StructureInvalidError):\n",
    "            x.insert(0,[\"a\",\"b\"])\n",
    "        with self.assertRaises(StructureInvalidError):\n",
    "            x.insert(0,[[1,2]])\n",
    "        with self.assertRaises(StructureInvalidError):\n",
    "            x.insert(0,[1,2,3])\n",
    "            \n",
    "        x.insert(0,[1,2])\n",
    "        \n",
    "    def test_list_method_sub(self):\n",
    "        x = StructureStrictList([1,2],[3,4])\n",
    "        self.assertEqual([1,2],x.pop(0))\n",
    "        self.assertEqual([[3,4]],x)\n",
    "        self.assertTrue(x.check_same_structure_with([[3,4]], include_outer_length=True))\n",
    "        \n",
    "        \n",
    "        x = StructureStrictList([1,2],[3,4])\n",
    "        x.remove([3,4])\n",
    "        self.assertEqual([[1,2]],x)\n",
    "        self.assertTrue(x.check_same_structure_with([[1,2]], include_outer_length=True))"
   ]
  },
  {
   "cell_type": "code",
   "execution_count": 6,
   "metadata": {
    "ExecuteTime": {
     "end_time": "2021-04-01T09:43:45.153868Z",
     "start_time": "2021-04-01T09:43:44.964342Z"
    }
   },
   "outputs": [],
   "source": [
    "class TestTSL(unittest.TestCase):\n",
    "    def test_constructor(self):\n",
    "        with self.assertRaises(StructureInvalidError):\n",
    "            TypeStrictList([1,2],[\"a\",\"b\"])\n",
    "        with self.assertRaises(StructureInvalidError):\n",
    "            TypeStrictList(\"c\",[\"a\",\"b\"])\n",
    "        with self.assertRaises(StructureInvalidError):\n",
    "            TypeStrictList(\"1\",1)\n",
    "            \n",
    "        TypeStrictList([[1,2],[3,4]])\n",
    "        TypeStrictList([1,2],[3,4,5]) \n",
    "        TypeStrictList([[[1,2],[2]],[[3,4],[1,2]]])\n",
    "        \n",
    "    def test_structures(self):\n",
    "        x = TypeStrictList([1,2],[3,4])\n",
    "        self.assertEqual(x.type_structure, [[int]])\n",
    "        \n",
    "    \n",
    "    def test_check_save_structure_with(self):\n",
    "        x = TypeStrictList([1,2],[3,4])\n",
    "        self.assertTrue(x.check_same_structure_with([[5,6],[7,8],[9,10]]))\n",
    "        self.assertTrue(x.check_same_structure_with([[1],[2,3]]))\n",
    "        self.assertFalse(x.check_same_structure_with([3,4]))\n",
    "        self.assertFalse(x.check_same_structure_with([[\"a\",\"b\"],[\"c\",\"d\"]]))\n",
    "        \n",
    "        self.assertTrue(x.check_same_structure_with([[5,6],[7,8],[9,10]], \n",
    "                                                     include_outer_length=True))\n",
    "        \n",
    "        self.assertTrue(x.check_same_structure_with([[5,6],[7,8],[9,10]], \n",
    "                                                    include_outer_length=False))\n",
    "        \n",
    "        \n",
    "    \n",
    "    def test_check_item_structure(self):\n",
    "        x = TypeStrictList([1,2],[3,4])\n",
    "        self.assertTrue(x.check_item_structure([5,6]))\n",
    "        self.assertTrue(x.check_item_structure([7,8,9]))\n",
    "        self.assertFalse(x.check_item_structure(5))\n",
    "        self.assertFalse(x.check_item_structure([\"a\",\"b\"]))\n",
    "        \n",
    "    def test_list_method_add(self):\n",
    "        x = TypeStrictList([1,2],[3,4])\n",
    "        with self.assertRaises(StructureInvalidError):\n",
    "            x.append(2)\n",
    "        with self.assertRaises(StructureInvalidError):\n",
    "            x.append([\"a\",\"b\"])\n",
    "        with self.assertRaises(StructureInvalidError):\n",
    "            x.append([[1,2]])\n",
    "        \n",
    "        x.append([1,2])\n",
    "        x.append([1,2,3])\n",
    "        \n",
    "        with self.assertRaises(StructureInvalidError):\n",
    "            x.extend([1,2])\n",
    "        with self.assertRaises(StructureInvalidError):\n",
    "            x.extend([[1,2],[\"a\", \"b\"]])\n",
    "\n",
    "        x.extend([[11,12],[23,34]])\n",
    "        x.extend([[1,2],[3,4,5]]) \n",
    "        \n",
    "        \n",
    "        with self.assertRaises(StructureInvalidError):\n",
    "            x.insert(0,2)\n",
    "        with self.assertRaises(StructureInvalidError):\n",
    "            x.insert(0,[\"a\",\"b\"])\n",
    "        with self.assertRaises(StructureInvalidError):\n",
    "            x.insert(0,[[1,2]])\n",
    "            \n",
    "        x.insert(0,[1,2])\n",
    "        x.insert(0,[1,2,3])\n",
    "        \n",
    "    def test_list_method_sub(self):\n",
    "        x = TypeStrictList([1,2],[3,4])\n",
    "        self.assertEqual([1,2],x.pop(0))\n",
    "        self.assertEqual([[3,4]],x)\n",
    "        self.assertTrue(x.check_same_structure_with([[3,4]], include_outer_length=True))\n",
    "        \n",
    "        \n",
    "        x = TypeStrictList([1,2],[3,4])\n",
    "        x.remove([3,4])\n",
    "        self.assertEqual([[1,2]],x)\n",
    "        self.assertTrue(x.check_same_structure_with([[1,2]], include_outer_length=True))"
   ]
  },
  {
   "cell_type": "code",
   "execution_count": 7,
   "metadata": {
    "ExecuteTime": {
     "end_time": "2021-04-01T09:43:45.480568Z",
     "start_time": "2021-04-01T09:43:45.164834Z"
    }
   },
   "outputs": [],
   "source": [
    "class TestLSL(unittest.TestCase):\n",
    "    def test_constructor(self):\n",
    "        with self.assertRaises(StructureInvalidError):\n",
    "            LengthStrictList([1,2],[3,4,5])  \n",
    "        with self.assertRaises(StructureInvalidError):\n",
    "            LengthStrictList([[[1,2],[2]],[[3,4],[1,2]]])    \n",
    "        with self.assertRaises(StructureInvalidError):\n",
    "            LengthStrictList(\"c\",[\"a\",\"b\"])\n",
    "            \n",
    "        LengthStrictList([[1,2],[3,4]])\n",
    "        LengthStrictList([1,2],[\"a\",\"b\"])\n",
    "        LengthStrictList(\"1\",1)\n",
    "        \n",
    "        \n",
    "    def test_structures(self):\n",
    "        x = LengthStrictList([1,2],[3,4])\n",
    "        self.assertEqual(x.length_structure, {2:{2:None}})\n",
    "        \n",
    "    \n",
    "    def test_check_save_structure_with(self):\n",
    "        x = LengthStrictList([1,2],[3,4])\n",
    "        self.assertTrue(x.check_same_structure_with([[5,6],[7,8],[9,10]]))\n",
    "        self.assertFalse(x.check_same_structure_with([[1],[2,3]]))\n",
    "        self.assertFalse(x.check_same_structure_with([3,4]))\n",
    "        self.assertTrue(x.check_same_structure_with([[\"a\",\"b\"],[\"c\",\"d\"]]))\n",
    "        \n",
    "        self.assertFalse(x.check_same_structure_with([[5,6],[7,8],[9,10]], \n",
    "                                                      include_outer_length=True))\n",
    "        \n",
    "        self.assertTrue(x.check_same_structure_with([[5,6],[7,8],[9,10]], \n",
    "                                                    include_outer_length=False))\n",
    "        \n",
    "        \n",
    "    def test_check_item_structure(self):\n",
    "        x = LengthStrictList([1,2],[3,4])\n",
    "        self.assertTrue(x.check_item_structure([5,6]))\n",
    "        self.assertFalse(x.check_item_structure([7,8,9]))\n",
    "        self.assertFalse(x.check_item_structure(5))\n",
    "        self.assertTrue(x.check_item_structure([\"a\",\"b\"]))\n",
    "        \n",
    "    def test_list_method_add(self):\n",
    "        x = LengthStrictList([1,2],[3,4])\n",
    "        with self.assertRaises(StructureInvalidError):\n",
    "            x.append(2)\n",
    "        with self.assertRaises(StructureInvalidError):\n",
    "            x.append([1,2,3])\n",
    "        with self.assertRaises(StructureInvalidError):\n",
    "            x.append([[1,2]])\n",
    "        \n",
    "        x.append([1,2])\n",
    "        x.append([\"a\",\"b\"])\n",
    "        \n",
    "        with self.assertRaises(StructureInvalidError):\n",
    "            x.extend([1,2])\n",
    "        with self.assertRaises(StructureInvalidError):\n",
    "            x.extend([[1,2],[3,4,5]])\n",
    "\n",
    "        x.extend([[11,12],[23,34]])\n",
    "        x.extend([[1,2],[\"a\", \"b\"]])\n",
    "        \n",
    "        with self.assertRaises(StructureInvalidError):\n",
    "            x.insert(0,2)\n",
    "        with self.assertRaises(StructureInvalidError):\n",
    "            x.insert(0,[1,2,3])\n",
    "        with self.assertRaises(StructureInvalidError):\n",
    "            x.insert(0,[[1,2]])\n",
    "            \n",
    "        x.insert(0,[1,2])\n",
    "        x.insert(0,[\"a\",\"b\"])\n",
    "        \n",
    "    def test_list_method_sub(self):\n",
    "        x = LengthStrictList([1,2],[3,4])\n",
    "        self.assertEqual([1,2],x.pop(0))\n",
    "        self.assertEqual([[3,4]],x)\n",
    "        self.assertTrue(x.check_same_structure_with([[3,4]], include_outer_length=True))\n",
    "        \n",
    "        \n",
    "        x = LengthStrictList([1,2],[3,4])\n",
    "        x.remove([3,4])\n",
    "        self.assertEqual([[1,2]],x)\n",
    "        self.assertTrue(x.check_same_structure_with([[1,2]], include_outer_length=True))"
   ]
  },
  {
   "cell_type": "markdown",
   "metadata": {},
   "source": [
    "### テスト"
   ]
  },
  {
   "cell_type": "code",
   "execution_count": 8,
   "metadata": {
    "ExecuteTime": {
     "end_time": "2021-04-01T09:43:46.119582Z",
     "start_time": "2021-04-01T09:43:45.495530Z"
    },
    "scrolled": true
   },
   "outputs": [
    {
     "name": "stderr",
     "output_type": "stream",
     "text": [
      "test_check_item_structure (__main__.TestLSL) ... ok\n",
      "test_check_save_structure_with (__main__.TestLSL) ... ok\n",
      "test_constructor (__main__.TestLSL) ... ok\n",
      "test_list_method_add (__main__.TestLSL) ... ok\n",
      "test_list_method_sub (__main__.TestLSL) ... ok\n",
      "test_structures (__main__.TestLSL) ... ok\n",
      "test_check_item_structure (__main__.TestSSL) ... ok\n",
      "test_check_save_structure_with (__main__.TestSSL) ... ok\n",
      "test_constructor (__main__.TestSSL) ... ok\n",
      "test_list_method_add (__main__.TestSSL) ... ok\n",
      "test_list_method_sub (__main__.TestSSL) ... ok\n",
      "test_structures (__main__.TestSSL) ... ok\n",
      "test_check_item_structure (__main__.TestTSL) ... ok\n",
      "test_check_save_structure_with (__main__.TestTSL) ... ok\n",
      "test_constructor (__main__.TestTSL) ... ok\n",
      "test_list_method_add (__main__.TestTSL) ... ok\n",
      "test_list_method_sub (__main__.TestTSL) ... ok\n",
      "test_structures (__main__.TestTSL) ... ok\n",
      "\n",
      "----------------------------------------------------------------------\n",
      "Ran 18 tests in 0.130s\n",
      "\n",
      "OK\n"
     ]
    },
    {
     "data": {
      "text/plain": [
       "<unittest.main.TestProgram at 0x1405d016c48>"
      ]
     },
     "execution_count": 8,
     "metadata": {},
     "output_type": "execute_result"
    }
   ],
   "source": [
    "unittest.main(argv=['first-arg-is-ignored', \"-v\"], exit=False)\n",
    "#unittest.main(argv=['first-arg-is-ignored'], exit=False)"
   ]
  },
  {
   "cell_type": "code",
   "execution_count": null,
   "metadata": {},
   "outputs": [],
   "source": []
  }
 ],
 "metadata": {
  "kernelspec": {
   "display_name": "torch_py37",
   "language": "python",
   "name": "torch_py37"
  },
  "language_info": {
   "codemirror_mode": {
    "name": "ipython",
    "version": 3
   },
   "file_extension": ".py",
   "mimetype": "text/x-python",
   "name": "python",
   "nbconvert_exporter": "python",
   "pygments_lexer": "ipython3",
   "version": "3.7.4"
  },
  "toc": {
   "base_numbering": 1,
   "nav_menu": {},
   "number_sections": true,
   "sideBar": true,
   "skip_h1_title": true,
   "title_cell": "Table of Contents",
   "title_sidebar": "Contents",
   "toc_cell": false,
   "toc_position": {},
   "toc_section_display": true,
   "toc_window_display": false
  }
 },
 "nbformat": 4,
 "nbformat_minor": 4
}
