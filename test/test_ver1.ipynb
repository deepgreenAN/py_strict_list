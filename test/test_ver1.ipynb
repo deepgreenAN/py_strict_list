{
 "cells": [
  {
   "cell_type": "code",
   "execution_count": 1,
   "metadata": {
    "ExecuteTime": {
     "end_time": "2021-04-07T02:10:51.371676Z",
     "start_time": "2021-04-07T02:10:51.328788Z"
    }
   },
   "outputs": [
    {
     "name": "stdout",
     "output_type": "stream",
     "text": [
      "E:\\py_strict_list\n"
     ]
    }
   ],
   "source": [
    "%cd .."
   ]
  },
  {
   "cell_type": "code",
   "execution_count": 2,
   "metadata": {
    "ExecuteTime": {
     "end_time": "2021-04-07T02:10:51.512300Z",
     "start_time": "2021-04-07T02:10:51.387630Z"
    }
   },
   "outputs": [],
   "source": [
    "import unittest"
   ]
  },
  {
   "cell_type": "code",
   "execution_count": 3,
   "metadata": {
    "ExecuteTime": {
     "end_time": "2021-04-07T02:10:51.544214Z",
     "start_time": "2021-04-07T02:10:51.527258Z"
    }
   },
   "outputs": [],
   "source": [
    "from functools import reduce"
   ]
  },
  {
   "cell_type": "code",
   "execution_count": 4,
   "metadata": {
    "ExecuteTime": {
     "end_time": "2021-04-07T02:10:51.607046Z",
     "start_time": "2021-04-07T02:10:51.558179Z"
    }
   },
   "outputs": [],
   "source": [
    "#from py_strict_list import StructureStrictList, TypeStrictList, LengthStrictList\n",
    "from develops import StructureStrictList, TypeStrictList, LengthStrictList"
   ]
  },
  {
   "cell_type": "code",
   "execution_count": 5,
   "metadata": {
    "ExecuteTime": {
     "end_time": "2021-04-07T02:10:51.637964Z",
     "start_time": "2021-04-07T02:10:51.617020Z"
    }
   },
   "outputs": [],
   "source": [
    "#from py_strict_list import StructureInvalidError, strict_list_property, StructureListValidator\n",
    "from develops import StructureInvalidError, strict_list_property, StructureListValidator"
   ]
  },
  {
   "cell_type": "code",
   "execution_count": 6,
   "metadata": {
    "ExecuteTime": {
     "end_time": "2021-04-07T02:10:51.885520Z",
     "start_time": "2021-04-07T02:10:51.650993Z"
    }
   },
   "outputs": [],
   "source": [
    "class TestSSL(unittest.TestCase):\n",
    "    def test_constructor(self):\n",
    "        with self.assertRaises(StructureInvalidError):\n",
    "            StructureStrictList([1,2],2)\n",
    "        with self.assertRaises(StructureInvalidError):\n",
    "            StructureStrictList([1,2],[3,4,5])    \n",
    "        with self.assertRaises(StructureInvalidError):\n",
    "            StructureStrictList([1,2],[\"a\",\"b\"])\n",
    "        with self.assertRaises(StructureInvalidError):\n",
    "            StructureStrictList([[[1,2],[2]],[[3,4],[1,2]]])\n",
    "        with self.assertRaises(StructureInvalidError):\n",
    "            StructureStrictList(\"1\",1)\n",
    "            \n",
    "        StructureStrictList([[1,2],[3,4]])\n",
    "        \n",
    "    def test_structures(self):\n",
    "        x = StructureStrictList([1,2],[3,4])\n",
    "        self.assertEqual(x.length_structure, {2:{2:None}})\n",
    "        self.assertEqual(x.type_structure, [[int]])\n",
    "        \n",
    "    \n",
    "    def test_check_save_structure_with(self):\n",
    "        x = StructureStrictList([1,2],[3,4])\n",
    "        self.assertTrue(x.check_same_structure_with([[5,6],[7,8],[9,10]]))\n",
    "        self.assertFalse(x.check_same_structure_with([3,4]))\n",
    "        self.assertFalse(x.check_same_structure_with([[\"a\",\"b\"],[\"c\",\"d\"]]))\n",
    "        \n",
    "        self.assertFalse(x.check_same_structure_with([[5,6],[7,8],[9,10]], \n",
    "                                                     include_outer_length=True))\n",
    "        \n",
    "        self.assertTrue(x.check_same_structure_with([[5,6],[7,8],[9,10]], \n",
    "                                                    include_outer_length=False))        \n",
    "    \n",
    "    def test_check_item_structure(self):\n",
    "        x = StructureStrictList([1,2],[3,4])\n",
    "        self.assertTrue(x.check_item_structure([5,6]))\n",
    "        self.assertFalse(x.check_item_structure([7,8,9]))\n",
    "        self.assertFalse(x.check_item_structure(5))\n",
    "        self.assertFalse(x.check_item_structure([\"a\",\"b\"]))\n",
    "        \n",
    "    def test_list_method_add(self):\n",
    "        x = StructureStrictList([1,2],[3,4])\n",
    "        with self.assertRaises(StructureInvalidError):\n",
    "            x.append(2)\n",
    "        with self.assertRaises(StructureInvalidError):\n",
    "            x.append([\"a\",\"b\"])\n",
    "        with self.assertRaises(StructureInvalidError):\n",
    "            x.append([[1,2]])\n",
    "        with self.assertRaises(StructureInvalidError):\n",
    "            x.append([1,2,3])\n",
    "        \n",
    "        x.append([1,2])\n",
    "        \n",
    "        with self.assertRaises(StructureInvalidError):\n",
    "            x.extend([1,2])\n",
    "        with self.assertRaises(StructureInvalidError):\n",
    "            x.extend([[1,2],[\"a\", \"b\"]])\n",
    "        with self.assertRaises(StructureInvalidError):\n",
    "            x.extend([[1,2],[3,4,5]])  \n",
    "            \n",
    "        x.extend([[11,12],[23,34]])\n",
    "        \n",
    "        \n",
    "        with self.assertRaises(StructureInvalidError):\n",
    "            x.insert(0,2)\n",
    "        with self.assertRaises(StructureInvalidError):\n",
    "            x.insert(0,[\"a\",\"b\"])\n",
    "        with self.assertRaises(StructureInvalidError):\n",
    "            x.insert(0,[[1,2]])\n",
    "        with self.assertRaises(StructureInvalidError):\n",
    "            x.insert(0,[1,2,3])\n",
    "            \n",
    "        x.insert(0,[1,2])\n",
    "        \n",
    "    def test_list_method_sub(self):\n",
    "        x = StructureStrictList([1,2],[3,4])\n",
    "        self.assertEqual([1,2],x.pop(0))\n",
    "        self.assertEqual([[3,4]],x)\n",
    "        self.assertTrue(x.check_same_structure_with([[3,4]], include_outer_length=True))\n",
    "        \n",
    "        \n",
    "        x = StructureStrictList([1,2],[3,4])\n",
    "        x.remove([3,4])\n",
    "        self.assertEqual([[1,2]],x)\n",
    "        self.assertTrue(x.check_same_structure_with([[1,2]], include_outer_length=True))"
   ]
  },
  {
   "cell_type": "code",
   "execution_count": 7,
   "metadata": {
    "ExecuteTime": {
     "end_time": "2021-04-07T02:10:52.198687Z",
     "start_time": "2021-04-07T02:10:51.906465Z"
    }
   },
   "outputs": [],
   "source": [
    "class TestTSL(unittest.TestCase):\n",
    "    def test_constructor(self):\n",
    "        with self.assertRaises(StructureInvalidError):\n",
    "            TypeStrictList([1,2],[\"a\",\"b\"])\n",
    "        with self.assertRaises(StructureInvalidError):\n",
    "            TypeStrictList(\"c\",[\"a\",\"b\"])\n",
    "        with self.assertRaises(StructureInvalidError):\n",
    "            TypeStrictList(\"1\",1)\n",
    "            \n",
    "        TypeStrictList([[1,2],[3,4]])\n",
    "        TypeStrictList([1,2],[3,4,5]) \n",
    "        TypeStrictList([[[1,2],[2]],[[3,4],[1,2]]])\n",
    "        \n",
    "    def test_structures(self):\n",
    "        x = TypeStrictList([1,2],[3,4])\n",
    "        self.assertEqual(x.type_structure, [[int]])\n",
    "        \n",
    "    \n",
    "    def test_check_save_structure_with(self):\n",
    "        x = TypeStrictList([1,2],[3,4])\n",
    "        self.assertTrue(x.check_same_structure_with([[5,6],[7,8],[9,10]]))\n",
    "        self.assertTrue(x.check_same_structure_with([[1],[2,3]]))\n",
    "        self.assertFalse(x.check_same_structure_with([3,4]))\n",
    "        self.assertFalse(x.check_same_structure_with([[\"a\",\"b\"],[\"c\",\"d\"]]))\n",
    "        \n",
    "        self.assertTrue(x.check_same_structure_with([[5,6],[7,8],[9,10]], \n",
    "                                                     include_outer_length=True))\n",
    "        \n",
    "        self.assertTrue(x.check_same_structure_with([[5,6],[7,8],[9,10]], \n",
    "                                                    include_outer_length=False))\n",
    "        \n",
    "        \n",
    "    \n",
    "    def test_check_item_structure(self):\n",
    "        x = TypeStrictList([1,2],[3,4])\n",
    "        self.assertTrue(x.check_item_structure([5,6]))\n",
    "        self.assertTrue(x.check_item_structure([7,8,9]))\n",
    "        self.assertFalse(x.check_item_structure(5))\n",
    "        self.assertFalse(x.check_item_structure([\"a\",\"b\"]))\n",
    "        \n",
    "    def test_list_method_add(self):\n",
    "        x = TypeStrictList([1,2],[3,4])\n",
    "        with self.assertRaises(StructureInvalidError):\n",
    "            x.append(2)\n",
    "        with self.assertRaises(StructureInvalidError):\n",
    "            x.append([\"a\",\"b\"])\n",
    "        with self.assertRaises(StructureInvalidError):\n",
    "            x.append([[1,2]])\n",
    "        \n",
    "        x.append([1,2])\n",
    "        x.append([1,2,3])\n",
    "        \n",
    "        with self.assertRaises(StructureInvalidError):\n",
    "            x.extend([1,2])\n",
    "        with self.assertRaises(StructureInvalidError):\n",
    "            x.extend([[1,2],[\"a\", \"b\"]])\n",
    "\n",
    "        x.extend([[11,12],[23,34]])\n",
    "        x.extend([[1,2],[3,4,5]]) \n",
    "        \n",
    "        \n",
    "        with self.assertRaises(StructureInvalidError):\n",
    "            x.insert(0,2)\n",
    "        with self.assertRaises(StructureInvalidError):\n",
    "            x.insert(0,[\"a\",\"b\"])\n",
    "        with self.assertRaises(StructureInvalidError):\n",
    "            x.insert(0,[[1,2]])\n",
    "            \n",
    "        x.insert(0,[1,2])\n",
    "        x.insert(0,[1,2,3])\n",
    "        \n",
    "    def test_list_method_sub(self):\n",
    "        x = TypeStrictList([1,2],[3,4])\n",
    "        self.assertEqual([1,2],x.pop(0))\n",
    "        self.assertEqual([[3,4]],x)\n",
    "        self.assertTrue(x.check_same_structure_with([[3,4]], include_outer_length=True))\n",
    "        \n",
    "        \n",
    "        x = TypeStrictList([1,2],[3,4])\n",
    "        x.remove([3,4])\n",
    "        self.assertEqual([[1,2]],x)\n",
    "        self.assertTrue(x.check_same_structure_with([[1,2]], include_outer_length=True))"
   ]
  },
  {
   "cell_type": "code",
   "execution_count": 8,
   "metadata": {
    "ExecuteTime": {
     "end_time": "2021-04-07T02:10:52.558773Z",
     "start_time": "2021-04-07T02:10:52.220628Z"
    }
   },
   "outputs": [],
   "source": [
    "class TestLSL(unittest.TestCase):\n",
    "    def test_constructor(self):\n",
    "        with self.assertRaises(StructureInvalidError):\n",
    "            LengthStrictList([1,2],[3,4,5])  \n",
    "        with self.assertRaises(StructureInvalidError):\n",
    "            LengthStrictList([[[1,2],[2]],[[3,4],[1,2]]])    \n",
    "        with self.assertRaises(StructureInvalidError):\n",
    "            LengthStrictList(\"c\",[\"a\",\"b\"])\n",
    "            \n",
    "        LengthStrictList([[1,2],[3,4]])\n",
    "        LengthStrictList([1,2],[\"a\",\"b\"])\n",
    "        LengthStrictList(\"1\",1)\n",
    "        \n",
    "        \n",
    "    def test_structures(self):\n",
    "        x = LengthStrictList([1,2],[3,4])\n",
    "        self.assertEqual(x.length_structure, {2:{2:None}})\n",
    "        \n",
    "    \n",
    "    def test_check_save_structure_with(self):\n",
    "        x = LengthStrictList([1,2],[3,4])\n",
    "        self.assertTrue(x.check_same_structure_with([[5,6],[7,8],[9,10]]))\n",
    "        self.assertFalse(x.check_same_structure_with([[1],[2,3]]))\n",
    "        self.assertFalse(x.check_same_structure_with([3,4]))\n",
    "        self.assertTrue(x.check_same_structure_with([[\"a\",\"b\"],[\"c\",\"d\"]]))\n",
    "        \n",
    "        self.assertFalse(x.check_same_structure_with([[5,6],[7,8],[9,10]], \n",
    "                                                      include_outer_length=True))\n",
    "        \n",
    "        self.assertTrue(x.check_same_structure_with([[5,6],[7,8],[9,10]], \n",
    "                                                    include_outer_length=False))\n",
    "        \n",
    "        \n",
    "    def test_check_item_structure(self):\n",
    "        x = LengthStrictList([1,2],[3,4])\n",
    "        self.assertTrue(x.check_item_structure([5,6]))\n",
    "        self.assertFalse(x.check_item_structure([7,8,9]))\n",
    "        self.assertFalse(x.check_item_structure(5))\n",
    "        self.assertTrue(x.check_item_structure([\"a\",\"b\"]))\n",
    "        \n",
    "    def test_list_method_add(self):\n",
    "        x = LengthStrictList([1,2],[3,4])\n",
    "        with self.assertRaises(StructureInvalidError):\n",
    "            x.append(2)\n",
    "        with self.assertRaises(StructureInvalidError):\n",
    "            x.append([1,2,3])\n",
    "        with self.assertRaises(StructureInvalidError):\n",
    "            x.append([[1,2]])\n",
    "        \n",
    "        x.append([1,2])\n",
    "        x.append([\"a\",\"b\"])\n",
    "        \n",
    "        with self.assertRaises(StructureInvalidError):\n",
    "            x.extend([1,2])\n",
    "        with self.assertRaises(StructureInvalidError):\n",
    "            x.extend([[1,2],[3,4,5]])\n",
    "\n",
    "        x.extend([[11,12],[23,34]])\n",
    "        x.extend([[1,2],[\"a\", \"b\"]])\n",
    "        \n",
    "        with self.assertRaises(StructureInvalidError):\n",
    "            x.insert(0,2)\n",
    "        with self.assertRaises(StructureInvalidError):\n",
    "            x.insert(0,[1,2,3])\n",
    "        with self.assertRaises(StructureInvalidError):\n",
    "            x.insert(0,[[1,2]])\n",
    "            \n",
    "        x.insert(0,[1,2])\n",
    "        x.insert(0,[\"a\",\"b\"])\n",
    "        \n",
    "    def test_list_method_sub(self):\n",
    "        x = LengthStrictList([1,2],[3,4])\n",
    "        self.assertEqual([1,2],x.pop(0))\n",
    "        self.assertEqual([[3,4]],x)\n",
    "        self.assertTrue(x.check_same_structure_with([[3,4]], include_outer_length=True))\n",
    "        \n",
    "        \n",
    "        x = LengthStrictList([1,2],[3,4])\n",
    "        x.remove([3,4])\n",
    "        self.assertEqual([[1,2]],x)\n",
    "        self.assertTrue(x.check_same_structure_with([[1,2]], include_outer_length=True))"
   ]
  },
  {
   "cell_type": "code",
   "execution_count": 9,
   "metadata": {
    "ExecuteTime": {
     "end_time": "2021-04-07T02:10:52.714891Z",
     "start_time": "2021-04-07T02:10:52.576727Z"
    }
   },
   "outputs": [],
   "source": [
    "def flatten(_list):\n",
    "    def flatten_gen(_list):\n",
    "        for item in _list:\n",
    "            if isinstance(item, list):\n",
    "                yield from flatten_gen(item)\n",
    "            else:\n",
    "                yield item\n",
    "    return list(flatten_gen(_list))"
   ]
  },
  {
   "cell_type": "code",
   "execution_count": 10,
   "metadata": {
    "ExecuteTime": {
     "end_time": "2021-04-07T02:10:52.822124Z",
     "start_time": "2021-04-07T02:10:52.739815Z"
    }
   },
   "outputs": [],
   "source": [
    "class A_false:\n",
    "    SL = StructureStrictList\n",
    "    def __init__(self, list_like):\n",
    "        self._inner_list = A_false.SL.from_list(list_like)\n",
    "        self.make_sum()\n",
    "        self._inner_list.hook_func.add(self.make_sum)\n",
    "\n",
    "    def make_sum(self):\n",
    "        self.sum = reduce(lambda x,y:x+y, flatten(self._inner_list))\n",
    "\n",
    "    inner_list = strict_list_property(\"_inner_list\", include_outer_length=False)"
   ]
  },
  {
   "cell_type": "code",
   "execution_count": 11,
   "metadata": {
    "ExecuteTime": {
     "end_time": "2021-04-07T02:10:52.901912Z",
     "start_time": "2021-04-07T02:10:52.841073Z"
    }
   },
   "outputs": [],
   "source": [
    "class A_true:\n",
    "    SL = StructureStrictList\n",
    "    def __init__(self, list_like):\n",
    "        self._inner_list = A_true.SL.from_list(list_like)\n",
    "        self.make_sum()\n",
    "        self._inner_list.hook_func.add(self.make_sum)\n",
    "\n",
    "    def make_sum(self):\n",
    "        self.sum = reduce(lambda x,y:x+y, flatten(self._inner_list))\n",
    "\n",
    "    inner_list = strict_list_property(\"_inner_list\", include_outer_length=True)"
   ]
  },
  {
   "cell_type": "code",
   "execution_count": 12,
   "metadata": {
    "ExecuteTime": {
     "end_time": "2021-04-07T02:10:53.076961Z",
     "start_time": "2021-04-07T02:10:52.912881Z"
    }
   },
   "outputs": [],
   "source": [
    "class B:\n",
    "    SL = StructureStrictList\n",
    "    include_outer_length = False\n",
    "    def __init__(self, list_like):\n",
    "        self._inner_list = B.SL.from_list(list_like)\n",
    "        self.make_sum()\n",
    "        self._inner_list.hook_func.add(self.make_sum)\n",
    "\n",
    "    def make_sum(self):\n",
    "        self.sum = reduce(lambda x,y:x+y, flatten(self._inner_list))\n",
    "\n",
    "    @property\n",
    "    def inner_list(self):\n",
    "        return self._inner_list\n",
    "    \n",
    "    @inner_list.setter\n",
    "    def inner_list(self, list_like):\n",
    "        if not self._inner_list.check_same_structure_with(list_like,\n",
    "                                                          B.include_outer_length\n",
    "                                                         ):\n",
    "            raise StructureInvalidError(\"This list is invalid\")\n",
    "            \n",
    "        pre_hook_fnnc = self._inner_list.hook_func\n",
    "        self._inner_list = B.SL.from_list(list_like)\n",
    "        pre_hook_fnnc()  # hook_funcの実行\n",
    "        self._inner_list.hook_func = pre_hook_fnnc"
   ]
  },
  {
   "cell_type": "code",
   "execution_count": 13,
   "metadata": {
    "ExecuteTime": {
     "end_time": "2021-04-07T02:10:53.139794Z",
     "start_time": "2021-04-07T02:10:53.090935Z"
    }
   },
   "outputs": [],
   "source": [
    "class C_false:\n",
    "    SL = StructureStrictList\n",
    "    inner_list = StructureListValidator(include_outer_length=False)\n",
    "    def __init__(self, list_like):\n",
    "        self._inner_list = C_false.SL.from_list(list_like)\n",
    "        self.inner_list = self._inner_list\n",
    "        self.make_sum()\n",
    "        self._inner_list.hook_func.add(self.make_sum)\n",
    "        \n",
    "    def make_sum(self):\n",
    "        self.sum = reduce(lambda x,y:x+y, flatten(self._inner_list))"
   ]
  },
  {
   "cell_type": "code",
   "execution_count": 14,
   "metadata": {
    "ExecuteTime": {
     "end_time": "2021-04-07T02:10:53.201633Z",
     "start_time": "2021-04-07T02:10:53.150767Z"
    }
   },
   "outputs": [],
   "source": [
    "class C_true:\n",
    "    SL = StructureStrictList\n",
    "    inner_list = StructureListValidator(include_outer_length=True)\n",
    "    def __init__(self, list_like):\n",
    "        self._inner_list = C_true.SL.from_list(list_like)\n",
    "        self.inner_list = self._inner_list\n",
    "        self.make_sum()\n",
    "        self._inner_list.hook_func.add(self.make_sum)\n",
    "        \n",
    "    def make_sum(self):\n",
    "        self.sum = reduce(lambda x,y:x+y, flatten(self._inner_list))"
   ]
  },
  {
   "cell_type": "code",
   "execution_count": 15,
   "metadata": {
    "ExecuteTime": {
     "end_time": "2021-04-07T02:10:53.421565Z",
     "start_time": "2021-04-07T02:10:53.215606Z"
    }
   },
   "outputs": [],
   "source": [
    "class TestProperty(unittest.TestCase):\n",
    "    def test_ssl_property(self):   \n",
    "        # A\n",
    "        # include_outer_length = False\n",
    "        a = A_false([1,2,3,4])\n",
    "        with self.assertRaises(StructureInvalidError):\n",
    "            a.inner_list.append([2])\n",
    "        with self.assertRaises(StructureInvalidError):\n",
    "            a.inner_list = [[5,6],[7,8]]\n",
    "        \n",
    "        a.inner_list.append(5)\n",
    "        self.assertEqual(a.sum, 15)\n",
    "        a.inner_list = [3,4]\n",
    "        self.assertEqual(a.sum, 7)\n",
    "        a.inner_list = [5,6,7,8]\n",
    "        self.assertEqual(a.sum, 26)\n",
    "        \n",
    "        # include_outer_length = True\n",
    "        a = A_true([1,2,3,4])\n",
    "        \n",
    "        with self.assertRaises(StructureInvalidError):\n",
    "            a.inner_list.append([2])\n",
    "            \n",
    "        with self.assertRaises(StructureInvalidError):\n",
    "            a.inner_list = [[5,6],[7,8]]\n",
    "            \n",
    "        with self.assertRaises(StructureInvalidError):\n",
    "            a.inner_list = [3,4]\n",
    "\n",
    "        a.inner_list = [5,6,7,8]\n",
    "        self.assertEqual(a.sum, 26)\n",
    "        \n",
    "        # B\n",
    "        B.include_outer_length = False\n",
    "        b = B([1,2,3,4])\n",
    "        with self.assertRaises(StructureInvalidError):\n",
    "            b.inner_list.append([2])\n",
    "            \n",
    "        with self.assertRaises(StructureInvalidError):\n",
    "            b.inner_list = [[5,6],[7,8]]\n",
    "        \n",
    "        b.inner_list.append(5)\n",
    "        self.assertEqual(b.sum, 15)\n",
    "        b.inner_list = [3,4]\n",
    "        self.assertEqual(b.sum, 7)\n",
    "        b.inner_list = [5,6,7,8]\n",
    "        self.assertEqual(b.sum, 26)\n",
    "        \n",
    "        B.include_outer_length = True\n",
    "        b = B([1,2,3,4])\n",
    "        \n",
    "        with self.assertRaises(StructureInvalidError):\n",
    "            b.inner_list.append([2])\n",
    "            \n",
    "        with self.assertRaises(StructureInvalidError):\n",
    "            b.inner_list = [[5,6],[7,8]]\n",
    "            \n",
    "        with self.assertRaises(StructureInvalidError):\n",
    "            b.inner_list = [3,4]\n",
    "\n",
    "        b.inner_list = [5,6,7,8]\n",
    "        self.assertEqual(b.sum, 26)\n",
    "        \n",
    "    def test_ssl_discriptor(self):\n",
    "        # C\n",
    "        # include_outer_length = False\n",
    "        c = C_false([1,2,3,4])\n",
    "        with self.assertRaises(StructureInvalidError):\n",
    "            c.inner_list.append([2])\n",
    "            \n",
    "        with self.assertRaises(StructureInvalidError):\n",
    "            c.inner_list = [[5,6],[7,8]]\n",
    "        \n",
    "        c.inner_list.append(5)\n",
    "        self.assertEqual(c.sum, 15)\n",
    "        c.inner_list = [3,4]\n",
    "        self.assertEqual(c.sum, 7)\n",
    "        c.inner_list = [5,6,7,8]\n",
    "        self.assertEqual(c.sum, 26)\n",
    "        \n",
    "        # include_outer_length = True\n",
    "        c = C_true([1,2,3,4])\n",
    "        \n",
    "        with self.assertRaises(StructureInvalidError):\n",
    "            c.inner_list.append([2])\n",
    "            \n",
    "        with self.assertRaises(StructureInvalidError):\n",
    "            c.inner_list = [[5,6],[7,8]]\n",
    "            \n",
    "        with self.assertRaises(StructureInvalidError):\n",
    "            c.inner_list = [3,4]\n",
    "\n",
    "        c.inner_list = [5,6,7,8]\n",
    "        self.assertEqual(c.sum, 26)"
   ]
  },
  {
   "cell_type": "markdown",
   "metadata": {},
   "source": [
    "### テスト"
   ]
  },
  {
   "cell_type": "code",
   "execution_count": 16,
   "metadata": {
    "ExecuteTime": {
     "end_time": "2021-04-07T02:10:54.191440Z",
     "start_time": "2021-04-07T02:10:53.439520Z"
    },
    "scrolled": true
   },
   "outputs": [
    {
     "name": "stderr",
     "output_type": "stream",
     "text": [
      "test_check_item_structure (__main__.TestLSL) ... ok\n",
      "test_check_save_structure_with (__main__.TestLSL) ... ok\n",
      "test_constructor (__main__.TestLSL) ... ok\n",
      "test_list_method_add (__main__.TestLSL) ... ok\n",
      "test_list_method_sub (__main__.TestLSL) ... ok\n",
      "test_structures (__main__.TestLSL) ... ok\n",
      "test_ssl_discriptor (__main__.TestProperty) ... ok\n",
      "test_ssl_property (__main__.TestProperty) ... ok\n",
      "test_check_item_structure (__main__.TestSSL) ... ok\n",
      "test_check_save_structure_with (__main__.TestSSL) ... ok\n",
      "test_constructor (__main__.TestSSL) ... ok\n",
      "test_list_method_add (__main__.TestSSL) ... ok\n",
      "test_list_method_sub (__main__.TestSSL) ... ok\n",
      "test_structures (__main__.TestSSL) ... ok\n",
      "test_check_item_structure (__main__.TestTSL) ... ok\n",
      "test_check_save_structure_with (__main__.TestTSL) ... ok\n",
      "test_constructor (__main__.TestTSL) ... ok\n",
      "test_list_method_add (__main__.TestTSL) ... ok\n",
      "test_list_method_sub (__main__.TestTSL) ... ok\n",
      "test_structures (__main__.TestTSL) ... ok\n",
      "\n",
      "----------------------------------------------------------------------\n",
      "Ran 20 tests in 0.121s\n",
      "\n",
      "OK\n"
     ]
    },
    {
     "data": {
      "text/plain": [
       "<unittest.main.TestProgram at 0x1d46f918548>"
      ]
     },
     "execution_count": 16,
     "metadata": {},
     "output_type": "execute_result"
    }
   ],
   "source": [
    "unittest.main(argv=['first-arg-is-ignored', \"-v\"], exit=False)\n",
    "#unittest.main(argv=['first-arg-is-ignored'], exit=False)"
   ]
  },
  {
   "cell_type": "code",
   "execution_count": null,
   "metadata": {},
   "outputs": [],
   "source": []
  }
 ],
 "metadata": {
  "kernelspec": {
   "display_name": "torch_py37",
   "language": "python",
   "name": "torch_py37"
  },
  "language_info": {
   "codemirror_mode": {
    "name": "ipython",
    "version": 3
   },
   "file_extension": ".py",
   "mimetype": "text/x-python",
   "name": "python",
   "nbconvert_exporter": "python",
   "pygments_lexer": "ipython3",
   "version": "3.7.4"
  },
  "toc": {
   "base_numbering": 1,
   "nav_menu": {},
   "number_sections": true,
   "sideBar": true,
   "skip_h1_title": true,
   "title_cell": "Table of Contents",
   "title_sidebar": "Contents",
   "toc_cell": false,
   "toc_position": {},
   "toc_section_display": true,
   "toc_window_display": false
  }
 },
 "nbformat": 4,
 "nbformat_minor": 4
}
