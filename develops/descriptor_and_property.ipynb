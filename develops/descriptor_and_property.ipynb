{
 "cells": [
  {
   "cell_type": "code",
   "execution_count": 1,
   "metadata": {
    "ExecuteTime": {
     "end_time": "2021-04-06T11:07:54.378925Z",
     "start_time": "2021-04-06T11:07:54.328068Z"
    }
   },
   "outputs": [
    {
     "name": "stdout",
     "output_type": "stream",
     "text": [
      "E:\\py_strict_list\n"
     ]
    }
   ],
   "source": [
    "%cd .."
   ]
  },
  {
   "cell_type": "code",
   "execution_count": 52,
   "metadata": {
    "ExecuteTime": {
     "end_time": "2021-04-06T16:47:32.894718Z",
     "start_time": "2021-04-06T16:47:32.866737Z"
    }
   },
   "outputs": [],
   "source": [
    "from functools import reduce"
   ]
  },
  {
   "cell_type": "code",
   "execution_count": 2,
   "metadata": {
    "ExecuteTime": {
     "end_time": "2021-04-06T11:07:54.458709Z",
     "start_time": "2021-04-06T11:07:54.392890Z"
    }
   },
   "outputs": [],
   "source": [
    "from develops import StructureStrictList, StructureInvalidError"
   ]
  },
  {
   "cell_type": "code",
   "execution_count": 53,
   "metadata": {
    "ExecuteTime": {
     "end_time": "2021-04-06T16:49:40.547704Z",
     "start_time": "2021-04-06T16:49:40.516789Z"
    }
   },
   "outputs": [
    {
     "data": {
      "text/plain": [
       "6"
      ]
     },
     "execution_count": 53,
     "metadata": {},
     "output_type": "execute_result"
    }
   ],
   "source": [
    "a = [1,2,3]\n",
    "reduce(lambda x,y:x+y, a)"
   ]
  },
  {
   "cell_type": "code",
   "execution_count": 54,
   "metadata": {
    "ExecuteTime": {
     "end_time": "2021-04-06T16:50:08.290526Z",
     "start_time": "2021-04-06T16:50:08.269582Z"
    }
   },
   "outputs": [
    {
     "data": {
      "text/plain": [
       "'abc'"
      ]
     },
     "execution_count": 54,
     "metadata": {},
     "output_type": "execute_result"
    }
   ],
   "source": [
    "a = [\"a\",\"b\",\"c\"]\n",
    "reduce(lambda x,y:x+y, a)"
   ]
  },
  {
   "cell_type": "code",
   "execution_count": 78,
   "metadata": {
    "ExecuteTime": {
     "end_time": "2021-04-06T17:04:12.920578Z",
     "start_time": "2021-04-06T17:04:12.896644Z"
    }
   },
   "outputs": [],
   "source": [
    "def flatten(_list):\n",
    "    def flatten_gen(_list):\n",
    "        for item in _list:\n",
    "            if isinstance(item, list):\n",
    "                yield from flatten_gen(item)\n",
    "            else:\n",
    "                yield item\n",
    "    return list(flatten_gen(_list))"
   ]
  },
  {
   "cell_type": "code",
   "execution_count": 55,
   "metadata": {
    "ExecuteTime": {
     "end_time": "2021-04-06T16:52:27.689089Z",
     "start_time": "2021-04-06T16:52:27.628249Z"
    }
   },
   "outputs": [],
   "source": [
    "class StructureListValidator():\n",
    "    \"\"\"\n",
    "    StructureListのValidator(ディスクリプタ)\n",
    "    セットされるときに構造チェックを行う\n",
    "    \"\"\"\n",
    "    def __init__(self, include_outer_length=False):\n",
    "        \"\"\"\n",
    "        include_outer_length: bool\n",
    "            最も外側を含めるかどうか\n",
    "        \"\"\"\n",
    "        self.include_outer_length = include_outer_length\n",
    "        \n",
    "    def __set_name__(self, owner, name):\n",
    "        self.private_name = '_' + name\n",
    "\n",
    "    def __get__(self, obj, objtype=None):\n",
    "        \"\"\"\n",
    "        privateを参照\n",
    "        \"\"\"\n",
    "        if obj is None:  # クラスアトリビュートとして参照された時\n",
    "            return self\n",
    "        \n",
    "        return getattr(obj, self.private_name)\n",
    "\n",
    "    def __set__(self, obj, list_like):\n",
    "        \"\"\"\n",
    "        構造チェック・hook関数の実行と移行\n",
    "        \"\"\"\n",
    "        if not getattr(obj, self.private_name).check_same_structure_with(list_like,\n",
    "                                                                         include_outer_length=self.include_outer_length\n",
    "                                                                        ):\n",
    "            raise StructureInvalidError(\"This list_like is invalid\")\n",
    "\n",
    "        ssl_list_like = type(getattr(obj, self.private_name)).from_list(list_like)\n",
    "        pre_hook_func = getattr(obj, self.private_name).hook_func\n",
    "        setattr(obj, self.private_name, ssl_list_like)\n",
    "        pre_hook_func()  # Hook関数を実行\n",
    "        getattr(obj, self.private_name).hook_func = pre_hook_func"
   ]
  },
  {
   "cell_type": "code",
   "execution_count": 80,
   "metadata": {
    "ExecuteTime": {
     "end_time": "2021-04-06T17:04:42.359865Z",
     "start_time": "2021-04-06T17:04:42.318974Z"
    }
   },
   "outputs": [],
   "source": [
    "class A:\n",
    "    inner_list = StructureListValidator(include_outer_length=False)\n",
    "    def __init__(self, list_like):\n",
    "        self._inner_list = StructureStrictList.from_list(list_like)\n",
    "        self.inner_list = self._inner_list\n",
    "        self.make_sum()\n",
    "        self._inner_list.hook_func.add(self.make_sum)\n",
    "        \n",
    "    def make_sum(self):\n",
    "        self.sum = reduce(lambda x,y:x+y, flatten(self._inner_list))"
   ]
  },
  {
   "cell_type": "code",
   "execution_count": 81,
   "metadata": {
    "ExecuteTime": {
     "end_time": "2021-04-06T17:04:42.932334Z",
     "start_time": "2021-04-06T17:04:42.907402Z"
    }
   },
   "outputs": [],
   "source": [
    "a = A([1,2,3,4])"
   ]
  },
  {
   "cell_type": "code",
   "execution_count": 82,
   "metadata": {
    "ExecuteTime": {
     "end_time": "2021-04-06T17:04:43.595562Z",
     "start_time": "2021-04-06T17:04:43.580600Z"
    }
   },
   "outputs": [],
   "source": [
    "b = A([\"a\",\"b\",\"c\"])"
   ]
  },
  {
   "cell_type": "code",
   "execution_count": 83,
   "metadata": {
    "ExecuteTime": {
     "end_time": "2021-04-06T17:04:44.530061Z",
     "start_time": "2021-04-06T17:04:44.497150Z"
    }
   },
   "outputs": [
    {
     "data": {
      "text/plain": [
       "[1, 2, 3, 4]"
      ]
     },
     "execution_count": 83,
     "metadata": {},
     "output_type": "execute_result"
    }
   ],
   "source": [
    "a.inner_list"
   ]
  },
  {
   "cell_type": "code",
   "execution_count": 72,
   "metadata": {
    "ExecuteTime": {
     "end_time": "2021-04-06T16:54:35.380666Z",
     "start_time": "2021-04-06T16:54:35.351747Z"
    }
   },
   "outputs": [
    {
     "data": {
      "text/plain": [
       "20"
      ]
     },
     "execution_count": 72,
     "metadata": {},
     "output_type": "execute_result"
    }
   ],
   "source": [
    "a.inner_list.append(10)\n",
    "a.sum"
   ]
  },
  {
   "cell_type": "code",
   "execution_count": 73,
   "metadata": {
    "ExecuteTime": {
     "end_time": "2021-04-06T16:54:36.028931Z",
     "start_time": "2021-04-06T16:54:35.946188Z"
    }
   },
   "outputs": [
    {
     "ename": "StructureInvalidError",
     "evalue": "This list_like is invalid",
     "output_type": "error",
     "traceback": [
      "\u001b[1;31m---------------------------------------------------------------------------\u001b[0m",
      "\u001b[1;31mStructureInvalidError\u001b[0m                     Traceback (most recent call last)",
      "\u001b[1;32m<ipython-input-73-df510128aa53>\u001b[0m in \u001b[0;36m<module>\u001b[1;34m\u001b[0m\n\u001b[1;32m----> 1\u001b[1;33m \u001b[0ma\u001b[0m\u001b[1;33m.\u001b[0m\u001b[0minner_list\u001b[0m \u001b[1;33m=\u001b[0m \u001b[1;33m[\u001b[0m\u001b[1;33m[\u001b[0m\u001b[1;36m1\u001b[0m\u001b[1;33m,\u001b[0m\u001b[1;36m2\u001b[0m\u001b[1;33m]\u001b[0m\u001b[1;33m]\u001b[0m\u001b[1;33m\u001b[0m\u001b[1;33m\u001b[0m\u001b[0m\n\u001b[0m",
      "\u001b[1;32m<ipython-input-55-0ea9ee118513>\u001b[0m in \u001b[0;36m__set__\u001b[1;34m(self, obj, list_like)\u001b[0m\n\u001b[0;32m     19\u001b[0m                                                                          \u001b[0minclude_outer_length\u001b[0m\u001b[1;33m=\u001b[0m\u001b[0mself\u001b[0m\u001b[1;33m.\u001b[0m\u001b[0minclude_outer_length\u001b[0m\u001b[1;33m\u001b[0m\u001b[1;33m\u001b[0m\u001b[0m\n\u001b[0;32m     20\u001b[0m                                                                         ):\n\u001b[1;32m---> 21\u001b[1;33m             \u001b[1;32mraise\u001b[0m \u001b[0mStructureInvalidError\u001b[0m\u001b[1;33m(\u001b[0m\u001b[1;34m\"This list_like is invalid\"\u001b[0m\u001b[1;33m)\u001b[0m\u001b[1;33m\u001b[0m\u001b[1;33m\u001b[0m\u001b[0m\n\u001b[0m\u001b[0;32m     22\u001b[0m \u001b[1;33m\u001b[0m\u001b[0m\n\u001b[0;32m     23\u001b[0m         \u001b[0mssl_list_like\u001b[0m \u001b[1;33m=\u001b[0m \u001b[0mtype\u001b[0m\u001b[1;33m(\u001b[0m\u001b[0mgetattr\u001b[0m\u001b[1;33m(\u001b[0m\u001b[0mobj\u001b[0m\u001b[1;33m,\u001b[0m \u001b[0mself\u001b[0m\u001b[1;33m.\u001b[0m\u001b[0mprivate_name\u001b[0m\u001b[1;33m)\u001b[0m\u001b[1;33m)\u001b[0m\u001b[1;33m.\u001b[0m\u001b[0mfrom_list\u001b[0m\u001b[1;33m(\u001b[0m\u001b[0mlist_like\u001b[0m\u001b[1;33m)\u001b[0m\u001b[1;33m\u001b[0m\u001b[1;33m\u001b[0m\u001b[0m\n",
      "\u001b[1;31mStructureInvalidError\u001b[0m: This list_like is invalid"
     ]
    }
   ],
   "source": [
    "a.inner_list = [[1,2]]"
   ]
  },
  {
   "cell_type": "code",
   "execution_count": 74,
   "metadata": {
    "ExecuteTime": {
     "end_time": "2021-04-06T16:54:37.200803Z",
     "start_time": "2021-04-06T16:54:37.168885Z"
    }
   },
   "outputs": [
    {
     "data": {
      "text/plain": [
       "'abcd'"
      ]
     },
     "execution_count": 74,
     "metadata": {},
     "output_type": "execute_result"
    }
   ],
   "source": [
    "b.inner_list.append(\"d\")\n",
    "b.sum"
   ]
  },
  {
   "cell_type": "code",
   "execution_count": 21,
   "metadata": {
    "ExecuteTime": {
     "end_time": "2021-04-06T11:09:04.668983Z",
     "start_time": "2021-04-06T11:09:04.621113Z"
    }
   },
   "outputs": [],
   "source": [
    "def strict_list_property(private_name, include_outer_length=False):\n",
    "    \"\"\"\n",
    "    StructureStrictListをpropertyに登録する関数\n",
    "    \n",
    "    private_name: str\n",
    "        propertyで隠す変数\n",
    "    include_outer_lengh: bool\n",
    "        もっとも外側の長さを比較に含めるかどうか\n",
    "    \n",
    "    \"\"\"\n",
    "    def getter(instance):\n",
    "        return instance.__dict__[private_name]\n",
    "\n",
    "    def setter(instance, list_like):\n",
    "        if not instance.__dict__[private_name].check_same_structure_with(list_like,\n",
    "                                                                         include_outer_length=include_outer_length\n",
    "                                                                         ):\n",
    "            raise StructureInvalidError(\"This list-like is invalid\")\n",
    "        previous_hook_func = instance.__dict__[private_name].hook_func\n",
    "        instance.__dict__[private_name] = type(instance.__dict__[private_name]).from_list(list_like)\n",
    "        previous_hook_func()  # hook_funcの実行\n",
    "        instance.__dict__[private_name].hook_func = previous_hook_func\n",
    "        \n",
    "    return property(getter, setter)"
   ]
  },
  {
   "cell_type": "code",
   "execution_count": 22,
   "metadata": {
    "ExecuteTime": {
     "end_time": "2021-04-06T11:09:05.285335Z",
     "start_time": "2021-04-06T11:09:05.254421Z"
    }
   },
   "outputs": [],
   "source": [
    "class B:\n",
    "    def __init__(self, list_like):\n",
    "        self._inner_list = StructureStrictList.from_list(list_like)\n",
    "        self.make_sum()\n",
    "        self._inner_list.hook_func.add(self.make_sum)\n",
    "        \n",
    "    def make_sum(self):\n",
    "         self.sum = reduce(lambda x,y:x+y, self._inner_list)\n",
    "        \n",
    "    \n",
    "    inner_list = strict_list_property(\"_inner_list\", False)"
   ]
  },
  {
   "cell_type": "code",
   "execution_count": 23,
   "metadata": {
    "ExecuteTime": {
     "end_time": "2021-04-06T11:09:05.904678Z",
     "start_time": "2021-04-06T11:09:05.886728Z"
    }
   },
   "outputs": [],
   "source": [
    "b = B([1,2,3,3])"
   ]
  },
  {
   "cell_type": "code",
   "execution_count": 24,
   "metadata": {
    "ExecuteTime": {
     "end_time": "2021-04-06T11:09:06.507069Z",
     "start_time": "2021-04-06T11:09:06.475153Z"
    }
   },
   "outputs": [
    {
     "data": {
      "text/plain": [
       "[1, 2, 3, 3]"
      ]
     },
     "execution_count": 24,
     "metadata": {},
     "output_type": "execute_result"
    }
   ],
   "source": [
    "b.inner_list"
   ]
  },
  {
   "cell_type": "code",
   "execution_count": 25,
   "metadata": {
    "ExecuteTime": {
     "end_time": "2021-04-06T11:09:07.123423Z",
     "start_time": "2021-04-06T11:09:07.102477Z"
    }
   },
   "outputs": [
    {
     "data": {
      "text/plain": [
       "9"
      ]
     },
     "execution_count": 25,
     "metadata": {},
     "output_type": "execute_result"
    }
   ],
   "source": [
    "b.sum"
   ]
  },
  {
   "cell_type": "code",
   "execution_count": 26,
   "metadata": {
    "ExecuteTime": {
     "end_time": "2021-04-06T11:09:07.707858Z",
     "start_time": "2021-04-06T11:09:07.690913Z"
    }
   },
   "outputs": [],
   "source": [
    "b.inner_list.append(10)"
   ]
  },
  {
   "cell_type": "code",
   "execution_count": 27,
   "metadata": {
    "ExecuteTime": {
     "end_time": "2021-04-06T11:09:08.161646Z",
     "start_time": "2021-04-06T11:09:08.142703Z"
    }
   },
   "outputs": [
    {
     "data": {
      "text/plain": [
       "19"
      ]
     },
     "execution_count": 27,
     "metadata": {},
     "output_type": "execute_result"
    }
   ],
   "source": [
    "b.sum"
   ]
  },
  {
   "cell_type": "code",
   "execution_count": 28,
   "metadata": {
    "ExecuteTime": {
     "end_time": "2021-04-06T11:09:08.700204Z",
     "start_time": "2021-04-06T11:09:08.673274Z"
    }
   },
   "outputs": [],
   "source": [
    "b.inner_list = [1,2]"
   ]
  },
  {
   "cell_type": "code",
   "execution_count": 29,
   "metadata": {
    "ExecuteTime": {
     "end_time": "2021-04-06T11:09:09.142023Z",
     "start_time": "2021-04-06T11:09:09.110108Z"
    }
   },
   "outputs": [
    {
     "data": {
      "text/plain": [
       "3"
      ]
     },
     "execution_count": 29,
     "metadata": {},
     "output_type": "execute_result"
    }
   ],
   "source": [
    "b.sum"
   ]
  },
  {
   "cell_type": "code",
   "execution_count": 30,
   "metadata": {
    "ExecuteTime": {
     "end_time": "2021-04-06T11:09:09.646673Z",
     "start_time": "2021-04-06T11:09:09.574867Z"
    }
   },
   "outputs": [
    {
     "ename": "Exception",
     "evalue": "This list-like is invalid",
     "output_type": "error",
     "traceback": [
      "\u001b[1;31m---------------------------------------------------------------------------\u001b[0m",
      "\u001b[1;31mException\u001b[0m                                 Traceback (most recent call last)",
      "\u001b[1;32m<ipython-input-30-b79a44bb2315>\u001b[0m in \u001b[0;36m<module>\u001b[1;34m\u001b[0m\n\u001b[1;32m----> 1\u001b[1;33m \u001b[0mb\u001b[0m\u001b[1;33m.\u001b[0m\u001b[0minner_list\u001b[0m \u001b[1;33m=\u001b[0m \u001b[1;33m[\u001b[0m\u001b[1;34m\"a\"\u001b[0m\u001b[1;33m]\u001b[0m\u001b[1;33m\u001b[0m\u001b[1;33m\u001b[0m\u001b[0m\n\u001b[0m",
      "\u001b[1;32m<ipython-input-21-99d844955802>\u001b[0m in \u001b[0;36msetter\u001b[1;34m(instance, list_like)\u001b[0m\n\u001b[0;32m     10\u001b[0m                                                                          \u001b[0minclude_outer_length\u001b[0m\u001b[1;33m=\u001b[0m\u001b[0minclude_outer_length\u001b[0m\u001b[1;33m\u001b[0m\u001b[1;33m\u001b[0m\u001b[0m\n\u001b[0;32m     11\u001b[0m                                                                          ):\n\u001b[1;32m---> 12\u001b[1;33m             \u001b[1;32mraise\u001b[0m \u001b[0mException\u001b[0m\u001b[1;33m(\u001b[0m\u001b[1;34m\"This list-like is invalid\"\u001b[0m\u001b[1;33m)\u001b[0m\u001b[1;33m\u001b[0m\u001b[1;33m\u001b[0m\u001b[0m\n\u001b[0m\u001b[0;32m     13\u001b[0m         \u001b[0mprevious_hook_func\u001b[0m \u001b[1;33m=\u001b[0m \u001b[0minstance\u001b[0m\u001b[1;33m.\u001b[0m\u001b[0m__dict__\u001b[0m\u001b[1;33m[\u001b[0m\u001b[0mprivate_name\u001b[0m\u001b[1;33m]\u001b[0m\u001b[1;33m.\u001b[0m\u001b[0mhook_func\u001b[0m\u001b[1;33m\u001b[0m\u001b[1;33m\u001b[0m\u001b[0m\n\u001b[0;32m     14\u001b[0m         \u001b[0minstance\u001b[0m\u001b[1;33m.\u001b[0m\u001b[0m__dict__\u001b[0m\u001b[1;33m[\u001b[0m\u001b[0mprivate_name\u001b[0m\u001b[1;33m]\u001b[0m \u001b[1;33m=\u001b[0m \u001b[0mtype\u001b[0m\u001b[1;33m(\u001b[0m\u001b[0minstance\u001b[0m\u001b[1;33m.\u001b[0m\u001b[0m__dict__\u001b[0m\u001b[1;33m[\u001b[0m\u001b[0mprivate_name\u001b[0m\u001b[1;33m]\u001b[0m\u001b[1;33m)\u001b[0m\u001b[1;33m.\u001b[0m\u001b[0mfrom_list\u001b[0m\u001b[1;33m(\u001b[0m\u001b[0mlist_like\u001b[0m\u001b[1;33m)\u001b[0m\u001b[1;33m\u001b[0m\u001b[1;33m\u001b[0m\u001b[0m\n",
      "\u001b[1;31mException\u001b[0m: This list-like is invalid"
     ]
    }
   ],
   "source": [
    "b.inner_list = [\"a\"]"
   ]
  },
  {
   "cell_type": "code",
   "execution_count": null,
   "metadata": {},
   "outputs": [],
   "source": []
  }
 ],
 "metadata": {
  "kernelspec": {
   "display_name": "torch_py37",
   "language": "python",
   "name": "torch_py37"
  },
  "language_info": {
   "codemirror_mode": {
    "name": "ipython",
    "version": 3
   },
   "file_extension": ".py",
   "mimetype": "text/x-python",
   "name": "python",
   "nbconvert_exporter": "python",
   "pygments_lexer": "ipython3",
   "version": "3.7.4"
  },
  "toc": {
   "base_numbering": 1,
   "nav_menu": {},
   "number_sections": true,
   "sideBar": true,
   "skip_h1_title": true,
   "title_cell": "Table of Contents",
   "title_sidebar": "Contents",
   "toc_cell": false,
   "toc_position": {},
   "toc_section_display": true,
   "toc_window_display": false
  }
 },
 "nbformat": 4,
 "nbformat_minor": 4
}
