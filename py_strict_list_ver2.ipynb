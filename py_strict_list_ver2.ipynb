{
 "cells": [
  {
   "cell_type": "markdown",
   "metadata": {},
   "source": [
    "# 構造の厳密なリスト "
   ]
  },
  {
   "cell_type": "code",
   "execution_count": 6,
   "metadata": {
    "ExecuteTime": {
     "end_time": "2021-03-29T13:05:58.448925Z",
     "start_time": "2021-03-29T13:05:58.416002Z"
    }
   },
   "outputs": [],
   "source": [
    "class StructureInvalidError(Exception):\n",
    "    def __init__(self, strings):\n",
    "        self.strings = strings\n",
    "    def __str__(self):\n",
    "        return self.strings"
   ]
  },
  {
   "cell_type": "code",
   "execution_count": 7,
   "metadata": {
    "ExecuteTime": {
     "end_time": "2021-03-29T13:05:59.402681Z",
     "start_time": "2021-03-29T13:05:59.353816Z"
    }
   },
   "outputs": [
    {
     "ename": "StructureInvalidError",
     "evalue": "a",
     "output_type": "error",
     "traceback": [
      "\u001b[1;31m---------------------------------------------------------------------------\u001b[0m",
      "\u001b[1;31mStructureInvalidError\u001b[0m                     Traceback (most recent call last)",
      "\u001b[1;32m<ipython-input-7-bce3a6b3fc5b>\u001b[0m in \u001b[0;36m<module>\u001b[1;34m\u001b[0m\n\u001b[1;32m----> 1\u001b[1;33m \u001b[1;32mraise\u001b[0m \u001b[0mStructureInvalidError\u001b[0m\u001b[1;33m(\u001b[0m\u001b[1;34m\"a\"\u001b[0m\u001b[1;33m)\u001b[0m\u001b[1;33m\u001b[0m\u001b[1;33m\u001b[0m\u001b[0m\n\u001b[0m",
      "\u001b[1;31mStructureInvalidError\u001b[0m: a"
     ]
    }
   ],
   "source": [
    "raise StructureInvalidError(\"a\")"
   ]
  },
  {
   "cell_type": "markdown",
   "metadata": {},
   "source": [
    "## 型・長さ構造が厳密なリスト"
   ]
  },
  {
   "cell_type": "code",
   "execution_count": 32,
   "metadata": {
    "ExecuteTime": {
     "end_time": "2021-03-29T13:09:59.223921Z",
     "start_time": "2021-03-29T13:09:58.824464Z"
    }
   },
   "outputs": [],
   "source": [
    "class StructureStrictList(list):\n",
    "    \"\"\"\n",
    "    型と長さが再帰的に厳密なリスト\n",
    "    \"\"\"\n",
    "    def __init__(self, *args):\n",
    "        \"\"\"\n",
    "        コンストラクタの引数は普通のリストと変わらない\n",
    "        \"\"\"\n",
    "        super(StructureStrictList, self).__init__(args)\n",
    "        self._get_structure()  # 構造を取得\n",
    "        \n",
    "    def _get_structure(self):\n",
    "        \"\"\"\n",
    "        構造を取得するためのメソッド．基本的に自身が変更されたときに呼ぶ\n",
    "        \"\"\"\n",
    "        self._type_structure = self._get_type_structure(self)\n",
    "        self._length_structure = self._get_length_structure(self)\n",
    "        \n",
    "    @staticmethod\n",
    "    def _get_type_structure(list_like):\n",
    "        \"\"\"\n",
    "        型構造を取得．取得する前に再帰的に型が正しいかチェックしている．\n",
    "        \"\"\"\n",
    "        # (リスト以外の)型が全て等しいかチェック・リスト内のそれぞれの型が等しいかチェック\n",
    "        all_type_list = [] \n",
    "        \n",
    "        def item_have_same_type(item):\n",
    "            type_list = []\n",
    "            for item_child in item:\n",
    "                type_list.append(type(item_child))\n",
    "                if isinstance(item_child, list):\n",
    "                    item_have_same_type(item_child)\n",
    "                else:  # リスト以外\n",
    "                   all_type_list.append(type(item_child)) \n",
    "            if len(type_list)!=0 and len(set(type_list))!=1:\n",
    "                raise StructureInvalidError(\"list like object have to have same type recursively\")\n",
    "        \n",
    "        if isinstance(list_like, list):  # リストでないと以下の処理が意味ないため\n",
    "            item_have_same_type(list_like)  # リスト内のそれぞれの型が違う場合エラーがでる．\n",
    "\n",
    "            if len(set(all_type_list)) == 0:  # リスト以外の型が存在しない場合\n",
    "                raise StructureInvalidError(\"list like object is enmty\")\n",
    "            if len(set(all_type_list)) > 1:  # リスト以外の型の種類が一つ以上の場合\n",
    "                raise StructureInvalidError(\"list like object have to have same type items\")\n",
    "        \n",
    "        def type_dicision(item):\n",
    "            if isinstance(item, list):  # リストの場合\n",
    "                return [type_dicision(item[0])]\n",
    "            else:\n",
    "                return type(item)\n",
    "        return type_dicision(list_like)\n",
    "    \n",
    "    @staticmethod\n",
    "    def _get_length_structure(list_like):\n",
    "        \"\"\"\n",
    "        長さ構造を取得．取得する前に長さが再帰的に等しいかチェックしている．\n",
    "        \"\"\"\n",
    "        # 長さが全て等しいかチェック\n",
    "        def item_have_same_length(item):\n",
    "            length_list = []\n",
    "            for item_child in item:\n",
    "                if isinstance(item_child, list):\n",
    "                    length_list.append(len(item_child))\n",
    "                    item_have_same_length(item_child)\n",
    "            if len(length_list)!=0 and len(set(length_list))!=1:\n",
    "                raise StructureInvalidError(\"list like object have to have same length recursively\")\n",
    "        \n",
    "        if isinstance(list_like, list):\n",
    "            item_have_same_length(list_like)  # 長さが違う場合エラーがでる．\n",
    "        \n",
    "        def length_dicision(item, structure_dict):\n",
    "            if isinstance(item, list):  # リストの場合\n",
    "                inner_structure_dict = {}\n",
    "                inner_structure_dict[len(item)]=length_dicision(item[0],{})\n",
    "                return inner_structure_dict\n",
    "            else:\n",
    "                return None\n",
    "            \n",
    "        all_structure_dict = length_dicision(list_like, {})\n",
    "        return all_structure_dict\n",
    "        \n",
    "    @staticmethod\n",
    "    def _check_same_type_structure(structure1, structure2):\n",
    "        def same_structure_dicision(item1, item2):\n",
    "            if isinstance(item1, list) and isinstance(item2, list):  #どちらもリスト\n",
    "                return same_structure_dicision(item1[0], item2[0])\n",
    "            elif (not isinstance(item1, list)) and (not isinstance(item2, list)):  # どちらもリストでない\n",
    "                return isinstance(item1,type(item2))  # 型が同一か判定\n",
    "            else:  # どちらかがリストでない\n",
    "                return False\n",
    "        return same_structure_dicision(structure1, structure2)\n",
    "    \n",
    "    @staticmethod\n",
    "    def _check_same_length_structure(structure1, structure2):\n",
    "        def same_structure_dicision(dict1, dict2):\n",
    "            if (dict1 is not None) and (dict2 is not None):  # どちらもNoneでなかった場合     \n",
    "                one_key1 = list(dict1.keys())[0]\n",
    "                value1 = dict1[one_key1]\n",
    "\n",
    "                one_key2 = list(dict2.keys())[0]\n",
    "                value2 = dict2[one_key2]\n",
    "\n",
    "                #キーが一致しない場合Falseを返す\n",
    "                if one_key1 != one_key2:\n",
    "                    return False\n",
    "                return same_structure_dicision(value1, value2)\n",
    "            elif (dict1 is None) and (dict2 is None):  # どちらもNone\n",
    "                return True  # いままでFalseでなかったのでTrue\n",
    "            else:  # どちらかのバリューがNone\n",
    "                return False  # 構造が異なるため\n",
    "        return same_structure_dicision(structure1, structure2)\n",
    "    \n",
    "    def check_same_structure_with(self, list_like, include_outer_length=False):\n",
    "        \"\"\"\n",
    "        list_like: list like object\n",
    "            構造を自身と比較したいリスト\n",
    "        include_outer_length int\n",
    "            最も外側の長さを比較する構造に含めるかどうか\n",
    "        \"\"\"\n",
    "        try:\n",
    "            list_like_type_structure = self._get_type_structure(list_like)\n",
    "            list_like_length_structure = self._get_length_structure(list_like)\n",
    "        except:  #構造の取得に失敗した場合\n",
    "            return False\n",
    "        is_same_type_structure = self._check_same_type_structure(self._type_structure,\n",
    "                                                                 list_like_type_structure\n",
    "                                                                )\n",
    "        \n",
    "        if include_outer_length: # 一番外側の比較も行う\n",
    "            is_same_length_structure = self._check_same_length_structure(self._length_structure,\n",
    "                                                                         list_like_length_structure\n",
    "                                                                        ) \n",
    "\n",
    "        else:  # 一番外側の比較は行わない\n",
    "            is_same_length_structure = self._check_same_length_structure(self._length_structure[list(self._length_structure.keys())[0]],\n",
    "                                                                         list_like_length_structure[list(list_like_length_structure.keys())[0]]\n",
    "                                                                        )\n",
    "\n",
    "        return is_same_type_structure and is_same_length_structure\n",
    "        \n",
    "    def check_item_structure(self, item):\n",
    "        \"\"\"\n",
    "        item: any\n",
    "            構造を自身の要素と比較したい要素候補\n",
    "        \"\"\"\n",
    "        try:\n",
    "            item_type_structure = self._get_type_structure(item)\n",
    "            item_length_structure = self._get_length_structure(item)\n",
    "        except:  #構造の取得に失敗した場合\n",
    "            return False\n",
    "        # itemがリストの場合\n",
    "        if isinstance(item, list):\n",
    "            is_same_type_structure = self._check_same_type_structure(self._type_structure[0],\n",
    "                                                                     item_type_structure)\n",
    "            is_same_length_structure = self._check_same_length_structure(self._length_structure[list(self._length_structure.keys())[0]],\n",
    "                                                                         item_length_structure)\n",
    "        else:\n",
    "            if not isinstance(self._type_structure[0], list):\n",
    "                is_same_type_structure = isinstance(item, self._type_structure[0])\n",
    "            else:\n",
    "                is_same_type_structure = False\n",
    "            is_same_length_structure = True\n",
    "        \n",
    "        return is_same_type_structure and is_same_length_structure\n",
    "    \n",
    "    @classmethod\n",
    "    def from_list(cls, _list):\n",
    "        \"\"\"\n",
    "        リストからStructureStrictListを作成\n",
    "        _list: list\n",
    "            リスト\n",
    "        \"\"\"\n",
    "        return cls(*_list)\n",
    "    \n",
    "    @classmethod\n",
    "    def from_structures(cls, _type_structure, _length_structure):\n",
    "        \"\"\"\n",
    "        型構造・長さ構造の二つから，空のStructureStrictListを作成\n",
    "        \"\"\"\n",
    "        # 空の自身を作成\n",
    "        instance = cls(None)\n",
    "        super(StructureStrictList, instance).remove(None)  # 親のスーパークラスのメソッド呼び出し\n",
    "        instance._type_structure = _type_structure\n",
    "        instance._length_structure = _length_structure\n",
    "        return instance\n",
    "    \n",
    "    @property\n",
    "    def type_structure(self):\n",
    "        return self._type_structure\n",
    "        \n",
    "    @property\n",
    "    def length_structure(self):\n",
    "        return self._length_structure\n",
    "    \n",
    "    def append(self, item):\n",
    "        if not self.check_item_structure(item):\n",
    "            raise Exception(\"This item is restricted for append\")\n",
    "        super(StructureStrictList, self).append(item)\n",
    "        self._get_structure()\n",
    "        \n",
    "    def extend(self, iterable):\n",
    "        if not self.check_same_structure_with(list(iterable), include_outer_length=False):  # 外側の長さの比較は行わない\n",
    "            raise Exception(\"This iterable is restricted for extend\")\n",
    "        super(StructureStrictList, self).extend(iterable)\n",
    "        self._get_structure()\n",
    "        \n",
    "    def insert(self, i, item):\n",
    "        if not self.check_item_structure(item):\n",
    "            raise Exception(\"This item is restricted for insert\")\n",
    "        super(StructureStrictList, self).insert(i, item)\n",
    "        self._get_structure()\n",
    "        \n",
    "    def remove(self, *args, **kwargs):\n",
    "        super(StructureStrictList, self).remove(*args, **kwargs)\n",
    "        self._get_structure()\n",
    "        \n",
    "    def pop(self, *args, **kwargs):\n",
    "        super(StructureStrictList, self).pop(*args, **kwargs)\n",
    "        self._get_structure() "
   ]
  },
  {
   "cell_type": "code",
   "execution_count": 33,
   "metadata": {
    "ExecuteTime": {
     "end_time": "2021-03-29T13:09:59.903823Z",
     "start_time": "2021-03-29T13:09:59.800099Z"
    }
   },
   "outputs": [
    {
     "ename": "StructureInvalidError",
     "evalue": "list like object have to have same type items",
     "output_type": "error",
     "traceback": [
      "\u001b[1;31m---------------------------------------------------------------------------\u001b[0m",
      "\u001b[1;31mStructureInvalidError\u001b[0m                     Traceback (most recent call last)",
      "\u001b[1;32m<ipython-input-33-905093049281>\u001b[0m in \u001b[0;36m<module>\u001b[1;34m\u001b[0m\n\u001b[1;32m----> 1\u001b[1;33m \u001b[0ma\u001b[0m \u001b[1;33m=\u001b[0m \u001b[0mStructureStrictList\u001b[0m\u001b[1;33m(\u001b[0m\u001b[1;33m[\u001b[0m\u001b[1;36m1\u001b[0m\u001b[1;33m,\u001b[0m\u001b[1;36m2\u001b[0m\u001b[1;33m]\u001b[0m\u001b[1;33m,\u001b[0m\u001b[1;33m[\u001b[0m\u001b[1;34m\"a\"\u001b[0m\u001b[1;33m,\u001b[0m \u001b[1;34m\"b\"\u001b[0m\u001b[1;33m]\u001b[0m\u001b[1;33m)\u001b[0m\u001b[1;33m\u001b[0m\u001b[1;33m\u001b[0m\u001b[0m\n\u001b[0m",
      "\u001b[1;32m<ipython-input-32-d83b9d7d31bc>\u001b[0m in \u001b[0;36m__init__\u001b[1;34m(self, *args)\u001b[0m\n\u001b[0;32m      8\u001b[0m         \"\"\"\n\u001b[0;32m      9\u001b[0m         \u001b[0msuper\u001b[0m\u001b[1;33m(\u001b[0m\u001b[0mStructureStrictList\u001b[0m\u001b[1;33m,\u001b[0m \u001b[0mself\u001b[0m\u001b[1;33m)\u001b[0m\u001b[1;33m.\u001b[0m\u001b[0m__init__\u001b[0m\u001b[1;33m(\u001b[0m\u001b[0margs\u001b[0m\u001b[1;33m)\u001b[0m\u001b[1;33m\u001b[0m\u001b[1;33m\u001b[0m\u001b[0m\n\u001b[1;32m---> 10\u001b[1;33m         \u001b[0mself\u001b[0m\u001b[1;33m.\u001b[0m\u001b[0m_get_structure\u001b[0m\u001b[1;33m(\u001b[0m\u001b[1;33m)\u001b[0m  \u001b[1;31m# 構造を取得\u001b[0m\u001b[1;33m\u001b[0m\u001b[1;33m\u001b[0m\u001b[0m\n\u001b[0m\u001b[0;32m     11\u001b[0m \u001b[1;33m\u001b[0m\u001b[0m\n\u001b[0;32m     12\u001b[0m     \u001b[1;32mdef\u001b[0m \u001b[0m_get_structure\u001b[0m\u001b[1;33m(\u001b[0m\u001b[0mself\u001b[0m\u001b[1;33m)\u001b[0m\u001b[1;33m:\u001b[0m\u001b[1;33m\u001b[0m\u001b[1;33m\u001b[0m\u001b[0m\n",
      "\u001b[1;32m<ipython-input-32-d83b9d7d31bc>\u001b[0m in \u001b[0;36m_get_structure\u001b[1;34m(self)\u001b[0m\n\u001b[0;32m     14\u001b[0m         \u001b[0m構造を取得するためのメソッド\u001b[0m\u001b[0;31m．\u001b[0m\u001b[0m基本的に自身が変更されたときに呼ぶ\u001b[0m\u001b[1;33m\u001b[0m\u001b[1;33m\u001b[0m\u001b[0m\n\u001b[0;32m     15\u001b[0m         \"\"\"\n\u001b[1;32m---> 16\u001b[1;33m         \u001b[0mself\u001b[0m\u001b[1;33m.\u001b[0m\u001b[0m_type_structure\u001b[0m \u001b[1;33m=\u001b[0m \u001b[0mself\u001b[0m\u001b[1;33m.\u001b[0m\u001b[0m_get_type_structure\u001b[0m\u001b[1;33m(\u001b[0m\u001b[0mself\u001b[0m\u001b[1;33m)\u001b[0m\u001b[1;33m\u001b[0m\u001b[1;33m\u001b[0m\u001b[0m\n\u001b[0m\u001b[0;32m     17\u001b[0m         \u001b[0mself\u001b[0m\u001b[1;33m.\u001b[0m\u001b[0m_length_structure\u001b[0m \u001b[1;33m=\u001b[0m \u001b[0mself\u001b[0m\u001b[1;33m.\u001b[0m\u001b[0m_get_length_structure\u001b[0m\u001b[1;33m(\u001b[0m\u001b[0mself\u001b[0m\u001b[1;33m)\u001b[0m\u001b[1;33m\u001b[0m\u001b[1;33m\u001b[0m\u001b[0m\n\u001b[0;32m     18\u001b[0m \u001b[1;33m\u001b[0m\u001b[0m\n",
      "\u001b[1;32m<ipython-input-32-d83b9d7d31bc>\u001b[0m in \u001b[0;36m_get_type_structure\u001b[1;34m(list_like)\u001b[0m\n\u001b[0;32m     42\u001b[0m                 \u001b[1;32mraise\u001b[0m \u001b[0mStructureInvalidError\u001b[0m\u001b[1;33m(\u001b[0m\u001b[1;34m\"list like object is enmty\"\u001b[0m\u001b[1;33m)\u001b[0m\u001b[1;33m\u001b[0m\u001b[1;33m\u001b[0m\u001b[0m\n\u001b[0;32m     43\u001b[0m             \u001b[1;32mif\u001b[0m \u001b[0mlen\u001b[0m\u001b[1;33m(\u001b[0m\u001b[0mset\u001b[0m\u001b[1;33m(\u001b[0m\u001b[0mall_type_list\u001b[0m\u001b[1;33m)\u001b[0m\u001b[1;33m)\u001b[0m \u001b[1;33m>\u001b[0m \u001b[1;36m1\u001b[0m\u001b[1;33m:\u001b[0m  \u001b[1;31m# リスト以外の型の種類が一つ以上の場合\u001b[0m\u001b[1;33m\u001b[0m\u001b[1;33m\u001b[0m\u001b[0m\n\u001b[1;32m---> 44\u001b[1;33m                 \u001b[1;32mraise\u001b[0m \u001b[0mStructureInvalidError\u001b[0m\u001b[1;33m(\u001b[0m\u001b[1;34m\"list like object have to have same type items\"\u001b[0m\u001b[1;33m)\u001b[0m\u001b[1;33m\u001b[0m\u001b[1;33m\u001b[0m\u001b[0m\n\u001b[0m\u001b[0;32m     45\u001b[0m \u001b[1;33m\u001b[0m\u001b[0m\n\u001b[0;32m     46\u001b[0m         \u001b[1;32mdef\u001b[0m \u001b[0mtype_dicision\u001b[0m\u001b[1;33m(\u001b[0m\u001b[0mitem\u001b[0m\u001b[1;33m)\u001b[0m\u001b[1;33m:\u001b[0m\u001b[1;33m\u001b[0m\u001b[1;33m\u001b[0m\u001b[0m\n",
      "\u001b[1;31mStructureInvalidError\u001b[0m: list like object have to have same type items"
     ]
    }
   ],
   "source": [
    "a = StructureStrictList([1,2],[\"a\", \"b\"])"
   ]
  },
  {
   "cell_type": "code",
   "execution_count": 34,
   "metadata": {
    "ExecuteTime": {
     "end_time": "2021-03-29T13:10:00.859935Z",
     "start_time": "2021-03-29T13:10:00.673841Z"
    }
   },
   "outputs": [
    {
     "ename": "StructureInvalidError",
     "evalue": "list like object have to have same length recursively",
     "output_type": "error",
     "traceback": [
      "\u001b[1;31m---------------------------------------------------------------------------\u001b[0m",
      "\u001b[1;31mStructureInvalidError\u001b[0m                     Traceback (most recent call last)",
      "\u001b[1;32m<ipython-input-34-337e9e91693a>\u001b[0m in \u001b[0;36m<module>\u001b[1;34m\u001b[0m\n\u001b[1;32m----> 1\u001b[1;33m \u001b[0ma\u001b[0m \u001b[1;33m=\u001b[0m \u001b[0mStructureStrictList\u001b[0m\u001b[1;33m(\u001b[0m\u001b[1;33m[\u001b[0m\u001b[1;36m1\u001b[0m\u001b[1;33m,\u001b[0m\u001b[1;36m2\u001b[0m\u001b[1;33m]\u001b[0m\u001b[1;33m,\u001b[0m\u001b[1;33m[\u001b[0m\u001b[1;36m3\u001b[0m\u001b[1;33m]\u001b[0m\u001b[1;33m)\u001b[0m\u001b[1;33m\u001b[0m\u001b[1;33m\u001b[0m\u001b[0m\n\u001b[0m",
      "\u001b[1;32m<ipython-input-32-d83b9d7d31bc>\u001b[0m in \u001b[0;36m__init__\u001b[1;34m(self, *args)\u001b[0m\n\u001b[0;32m      8\u001b[0m         \"\"\"\n\u001b[0;32m      9\u001b[0m         \u001b[0msuper\u001b[0m\u001b[1;33m(\u001b[0m\u001b[0mStructureStrictList\u001b[0m\u001b[1;33m,\u001b[0m \u001b[0mself\u001b[0m\u001b[1;33m)\u001b[0m\u001b[1;33m.\u001b[0m\u001b[0m__init__\u001b[0m\u001b[1;33m(\u001b[0m\u001b[0margs\u001b[0m\u001b[1;33m)\u001b[0m\u001b[1;33m\u001b[0m\u001b[1;33m\u001b[0m\u001b[0m\n\u001b[1;32m---> 10\u001b[1;33m         \u001b[0mself\u001b[0m\u001b[1;33m.\u001b[0m\u001b[0m_get_structure\u001b[0m\u001b[1;33m(\u001b[0m\u001b[1;33m)\u001b[0m  \u001b[1;31m# 構造を取得\u001b[0m\u001b[1;33m\u001b[0m\u001b[1;33m\u001b[0m\u001b[0m\n\u001b[0m\u001b[0;32m     11\u001b[0m \u001b[1;33m\u001b[0m\u001b[0m\n\u001b[0;32m     12\u001b[0m     \u001b[1;32mdef\u001b[0m \u001b[0m_get_structure\u001b[0m\u001b[1;33m(\u001b[0m\u001b[0mself\u001b[0m\u001b[1;33m)\u001b[0m\u001b[1;33m:\u001b[0m\u001b[1;33m\u001b[0m\u001b[1;33m\u001b[0m\u001b[0m\n",
      "\u001b[1;32m<ipython-input-32-d83b9d7d31bc>\u001b[0m in \u001b[0;36m_get_structure\u001b[1;34m(self)\u001b[0m\n\u001b[0;32m     15\u001b[0m         \"\"\"\n\u001b[0;32m     16\u001b[0m         \u001b[0mself\u001b[0m\u001b[1;33m.\u001b[0m\u001b[0m_type_structure\u001b[0m \u001b[1;33m=\u001b[0m \u001b[0mself\u001b[0m\u001b[1;33m.\u001b[0m\u001b[0m_get_type_structure\u001b[0m\u001b[1;33m(\u001b[0m\u001b[0mself\u001b[0m\u001b[1;33m)\u001b[0m\u001b[1;33m\u001b[0m\u001b[1;33m\u001b[0m\u001b[0m\n\u001b[1;32m---> 17\u001b[1;33m         \u001b[0mself\u001b[0m\u001b[1;33m.\u001b[0m\u001b[0m_length_structure\u001b[0m \u001b[1;33m=\u001b[0m \u001b[0mself\u001b[0m\u001b[1;33m.\u001b[0m\u001b[0m_get_length_structure\u001b[0m\u001b[1;33m(\u001b[0m\u001b[0mself\u001b[0m\u001b[1;33m)\u001b[0m\u001b[1;33m\u001b[0m\u001b[1;33m\u001b[0m\u001b[0m\n\u001b[0m\u001b[0;32m     18\u001b[0m \u001b[1;33m\u001b[0m\u001b[0m\n\u001b[0;32m     19\u001b[0m     \u001b[1;33m@\u001b[0m\u001b[0mstaticmethod\u001b[0m\u001b[1;33m\u001b[0m\u001b[1;33m\u001b[0m\u001b[0m\n",
      "\u001b[1;32m<ipython-input-32-d83b9d7d31bc>\u001b[0m in \u001b[0;36m_get_length_structure\u001b[1;34m(list_like)\u001b[0m\n\u001b[0;32m     67\u001b[0m \u001b[1;33m\u001b[0m\u001b[0m\n\u001b[0;32m     68\u001b[0m         \u001b[1;32mif\u001b[0m \u001b[0misinstance\u001b[0m\u001b[1;33m(\u001b[0m\u001b[0mlist_like\u001b[0m\u001b[1;33m,\u001b[0m \u001b[0mlist\u001b[0m\u001b[1;33m)\u001b[0m\u001b[1;33m:\u001b[0m\u001b[1;33m\u001b[0m\u001b[1;33m\u001b[0m\u001b[0m\n\u001b[1;32m---> 69\u001b[1;33m             \u001b[0mitem_have_same_length\u001b[0m\u001b[1;33m(\u001b[0m\u001b[0mlist_like\u001b[0m\u001b[1;33m)\u001b[0m  \u001b[1;31m# 長さが違う場合エラーがでる．\u001b[0m\u001b[1;33m\u001b[0m\u001b[1;33m\u001b[0m\u001b[0m\n\u001b[0m\u001b[0;32m     70\u001b[0m \u001b[1;33m\u001b[0m\u001b[0m\n\u001b[0;32m     71\u001b[0m         \u001b[1;32mdef\u001b[0m \u001b[0mlength_dicision\u001b[0m\u001b[1;33m(\u001b[0m\u001b[0mitem\u001b[0m\u001b[1;33m,\u001b[0m \u001b[0mstructure_dict\u001b[0m\u001b[1;33m)\u001b[0m\u001b[1;33m:\u001b[0m\u001b[1;33m\u001b[0m\u001b[1;33m\u001b[0m\u001b[0m\n",
      "\u001b[1;32m<ipython-input-32-d83b9d7d31bc>\u001b[0m in \u001b[0;36mitem_have_same_length\u001b[1;34m(item)\u001b[0m\n\u001b[0;32m     64\u001b[0m                     \u001b[0mitem_have_same_length\u001b[0m\u001b[1;33m(\u001b[0m\u001b[0mitem_child\u001b[0m\u001b[1;33m)\u001b[0m\u001b[1;33m\u001b[0m\u001b[1;33m\u001b[0m\u001b[0m\n\u001b[0;32m     65\u001b[0m             \u001b[1;32mif\u001b[0m \u001b[0mlen\u001b[0m\u001b[1;33m(\u001b[0m\u001b[0mlength_list\u001b[0m\u001b[1;33m)\u001b[0m\u001b[1;33m!=\u001b[0m\u001b[1;36m0\u001b[0m \u001b[1;32mand\u001b[0m \u001b[0mlen\u001b[0m\u001b[1;33m(\u001b[0m\u001b[0mset\u001b[0m\u001b[1;33m(\u001b[0m\u001b[0mlength_list\u001b[0m\u001b[1;33m)\u001b[0m\u001b[1;33m)\u001b[0m\u001b[1;33m!=\u001b[0m\u001b[1;36m1\u001b[0m\u001b[1;33m:\u001b[0m\u001b[1;33m\u001b[0m\u001b[1;33m\u001b[0m\u001b[0m\n\u001b[1;32m---> 66\u001b[1;33m                 \u001b[1;32mraise\u001b[0m \u001b[0mStructureInvalidError\u001b[0m\u001b[1;33m(\u001b[0m\u001b[1;34m\"list like object have to have same length recursively\"\u001b[0m\u001b[1;33m)\u001b[0m\u001b[1;33m\u001b[0m\u001b[1;33m\u001b[0m\u001b[0m\n\u001b[0m\u001b[0;32m     67\u001b[0m \u001b[1;33m\u001b[0m\u001b[0m\n\u001b[0;32m     68\u001b[0m         \u001b[1;32mif\u001b[0m \u001b[0misinstance\u001b[0m\u001b[1;33m(\u001b[0m\u001b[0mlist_like\u001b[0m\u001b[1;33m,\u001b[0m \u001b[0mlist\u001b[0m\u001b[1;33m)\u001b[0m\u001b[1;33m:\u001b[0m\u001b[1;33m\u001b[0m\u001b[1;33m\u001b[0m\u001b[0m\n",
      "\u001b[1;31mStructureInvalidError\u001b[0m: list like object have to have same length recursively"
     ]
    }
   ],
   "source": [
    "a = StructureStrictList([1,2],[3])"
   ]
  },
  {
   "cell_type": "code",
   "execution_count": 35,
   "metadata": {
    "ExecuteTime": {
     "end_time": "2021-03-29T13:10:01.692187Z",
     "start_time": "2021-03-29T13:10:01.677225Z"
    }
   },
   "outputs": [],
   "source": [
    "a = StructureStrictList([1,2],[3,4])"
   ]
  },
  {
   "cell_type": "code",
   "execution_count": 36,
   "metadata": {
    "ExecuteTime": {
     "end_time": "2021-03-29T13:10:02.448970Z",
     "start_time": "2021-03-29T13:10:02.427032Z"
    }
   },
   "outputs": [
    {
     "data": {
      "text/plain": [
       "{2: {2: None}}"
      ]
     },
     "execution_count": 36,
     "metadata": {},
     "output_type": "execute_result"
    }
   ],
   "source": [
    "a.length_structure"
   ]
  },
  {
   "cell_type": "code",
   "execution_count": 37,
   "metadata": {
    "ExecuteTime": {
     "end_time": "2021-03-29T13:10:03.189408Z",
     "start_time": "2021-03-29T13:10:03.158493Z"
    }
   },
   "outputs": [
    {
     "data": {
      "text/plain": [
       "[[int]]"
      ]
     },
     "execution_count": 37,
     "metadata": {},
     "output_type": "execute_result"
    }
   ],
   "source": [
    "a.type_structure"
   ]
  },
  {
   "cell_type": "markdown",
   "metadata": {},
   "source": [
    "### 他のSSLとの比較"
   ]
  },
  {
   "cell_type": "code",
   "execution_count": 38,
   "metadata": {
    "ExecuteTime": {
     "end_time": "2021-03-29T13:10:03.960986Z",
     "start_time": "2021-03-29T13:10:03.936049Z"
    }
   },
   "outputs": [
    {
     "data": {
      "text/plain": [
       "False"
      ]
     },
     "execution_count": 38,
     "metadata": {},
     "output_type": "execute_result"
    }
   ],
   "source": [
    "b = StructureStrictList(3,4)\n",
    "a.check_same_structure_with(b)"
   ]
  },
  {
   "cell_type": "markdown",
   "metadata": {},
   "source": [
    "### 他のリストとの比較"
   ]
  },
  {
   "cell_type": "code",
   "execution_count": 39,
   "metadata": {
    "ExecuteTime": {
     "end_time": "2021-03-29T13:10:05.245571Z",
     "start_time": "2021-03-29T13:10:05.218641Z"
    }
   },
   "outputs": [
    {
     "data": {
      "text/plain": [
       "True"
      ]
     },
     "execution_count": 39,
     "metadata": {},
     "output_type": "execute_result"
    }
   ],
   "source": [
    "c = [[5,6],[7,8]]\n",
    "a.check_same_structure_with(c)"
   ]
  },
  {
   "cell_type": "markdown",
   "metadata": {},
   "source": [
    "### 要素との比較 "
   ]
  },
  {
   "cell_type": "markdown",
   "metadata": {},
   "source": [
    "appendとかの型判定で利用"
   ]
  },
  {
   "cell_type": "code",
   "execution_count": 40,
   "metadata": {
    "ExecuteTime": {
     "end_time": "2021-03-29T13:10:07.003265Z",
     "start_time": "2021-03-29T13:10:06.972821Z"
    }
   },
   "outputs": [
    {
     "data": {
      "text/plain": [
       "True"
      ]
     },
     "execution_count": 40,
     "metadata": {},
     "output_type": "execute_result"
    }
   ],
   "source": [
    "a.check_item_structure([1,2])"
   ]
  },
  {
   "cell_type": "code",
   "execution_count": 41,
   "metadata": {
    "ExecuteTime": {
     "end_time": "2021-03-29T13:10:07.646086Z",
     "start_time": "2021-03-29T13:10:07.624747Z"
    }
   },
   "outputs": [
    {
     "data": {
      "text/plain": [
       "False"
      ]
     },
     "execution_count": 41,
     "metadata": {},
     "output_type": "execute_result"
    }
   ],
   "source": [
    "a.check_item_structure([3])"
   ]
  },
  {
   "cell_type": "markdown",
   "metadata": {},
   "source": [
    "### append "
   ]
  },
  {
   "cell_type": "code",
   "execution_count": 42,
   "metadata": {
    "ExecuteTime": {
     "end_time": "2021-03-29T13:10:08.898145Z",
     "start_time": "2021-03-29T13:10:08.827335Z"
    }
   },
   "outputs": [
    {
     "ename": "Exception",
     "evalue": "This item is restricted for append",
     "output_type": "error",
     "traceback": [
      "\u001b[1;31m---------------------------------------------------------------------------\u001b[0m",
      "\u001b[1;31mException\u001b[0m                                 Traceback (most recent call last)",
      "\u001b[1;32m<ipython-input-42-da0a5ad497c3>\u001b[0m in \u001b[0;36m<module>\u001b[1;34m\u001b[0m\n\u001b[1;32m----> 1\u001b[1;33m \u001b[0ma\u001b[0m\u001b[1;33m.\u001b[0m\u001b[0mappend\u001b[0m\u001b[1;33m(\u001b[0m\u001b[1;36m1\u001b[0m\u001b[1;33m)\u001b[0m\u001b[1;33m\u001b[0m\u001b[1;33m\u001b[0m\u001b[0m\n\u001b[0m",
      "\u001b[1;32m<ipython-input-32-d83b9d7d31bc>\u001b[0m in \u001b[0;36mappend\u001b[1;34m(self, item)\u001b[0m\n\u001b[0;32m    195\u001b[0m     \u001b[1;32mdef\u001b[0m \u001b[0mappend\u001b[0m\u001b[1;33m(\u001b[0m\u001b[0mself\u001b[0m\u001b[1;33m,\u001b[0m \u001b[0mitem\u001b[0m\u001b[1;33m)\u001b[0m\u001b[1;33m:\u001b[0m\u001b[1;33m\u001b[0m\u001b[1;33m\u001b[0m\u001b[0m\n\u001b[0;32m    196\u001b[0m         \u001b[1;32mif\u001b[0m \u001b[1;32mnot\u001b[0m \u001b[0mself\u001b[0m\u001b[1;33m.\u001b[0m\u001b[0mcheck_item_structure\u001b[0m\u001b[1;33m(\u001b[0m\u001b[0mitem\u001b[0m\u001b[1;33m)\u001b[0m\u001b[1;33m:\u001b[0m\u001b[1;33m\u001b[0m\u001b[1;33m\u001b[0m\u001b[0m\n\u001b[1;32m--> 197\u001b[1;33m             \u001b[1;32mraise\u001b[0m \u001b[0mException\u001b[0m\u001b[1;33m(\u001b[0m\u001b[1;34m\"This item is restricted for append\"\u001b[0m\u001b[1;33m)\u001b[0m\u001b[1;33m\u001b[0m\u001b[1;33m\u001b[0m\u001b[0m\n\u001b[0m\u001b[0;32m    198\u001b[0m         \u001b[0msuper\u001b[0m\u001b[1;33m(\u001b[0m\u001b[0mStructureStrictList\u001b[0m\u001b[1;33m,\u001b[0m \u001b[0mself\u001b[0m\u001b[1;33m)\u001b[0m\u001b[1;33m.\u001b[0m\u001b[0mappend\u001b[0m\u001b[1;33m(\u001b[0m\u001b[0mitem\u001b[0m\u001b[1;33m)\u001b[0m\u001b[1;33m\u001b[0m\u001b[1;33m\u001b[0m\u001b[0m\n\u001b[0;32m    199\u001b[0m         \u001b[0mself\u001b[0m\u001b[1;33m.\u001b[0m\u001b[0m_get_structure\u001b[0m\u001b[1;33m(\u001b[0m\u001b[1;33m)\u001b[0m\u001b[1;33m\u001b[0m\u001b[1;33m\u001b[0m\u001b[0m\n",
      "\u001b[1;31mException\u001b[0m: This item is restricted for append"
     ]
    }
   ],
   "source": [
    "a.append(1)"
   ]
  },
  {
   "cell_type": "code",
   "execution_count": 43,
   "metadata": {
    "ExecuteTime": {
     "end_time": "2021-03-29T13:10:09.743089Z",
     "start_time": "2021-03-29T13:10:09.709185Z"
    }
   },
   "outputs": [
    {
     "data": {
      "text/plain": [
       "[[1, 2], [3, 4], [5, 6]]"
      ]
     },
     "execution_count": 43,
     "metadata": {},
     "output_type": "execute_result"
    }
   ],
   "source": [
    "a.append([5,6])\n",
    "a"
   ]
  },
  {
   "cell_type": "markdown",
   "metadata": {},
   "source": [
    "###  extend"
   ]
  },
  {
   "cell_type": "code",
   "execution_count": 44,
   "metadata": {
    "ExecuteTime": {
     "end_time": "2021-03-29T13:10:10.762963Z",
     "start_time": "2021-03-29T13:10:10.736033Z"
    }
   },
   "outputs": [
    {
     "data": {
      "text/plain": [
       "[[1, 2], [3, 4], [5, 6], [7, 8], [9, 10], [11, 12]]"
      ]
     },
     "execution_count": 44,
     "metadata": {},
     "output_type": "execute_result"
    }
   ],
   "source": [
    "a.extend([[7,8],[9,10],[11,12]])\n",
    "a"
   ]
  },
  {
   "cell_type": "markdown",
   "metadata": {},
   "source": [
    "### from_list "
   ]
  },
  {
   "cell_type": "code",
   "execution_count": 45,
   "metadata": {
    "ExecuteTime": {
     "end_time": "2021-03-29T13:10:11.777292Z",
     "start_time": "2021-03-29T13:10:11.747374Z"
    }
   },
   "outputs": [
    {
     "data": {
      "text/plain": [
       "[1, 2, 3]"
      ]
     },
     "execution_count": 45,
     "metadata": {},
     "output_type": "execute_result"
    }
   ],
   "source": [
    "d = StructureStrictList.from_list([1,2,3])\n",
    "d"
   ]
  },
  {
   "cell_type": "code",
   "execution_count": 46,
   "metadata": {
    "ExecuteTime": {
     "end_time": "2021-03-29T13:10:12.506938Z",
     "start_time": "2021-03-29T13:10:12.481484Z"
    }
   },
   "outputs": [
    {
     "data": {
      "text/plain": [
       "{3: None}"
      ]
     },
     "execution_count": 46,
     "metadata": {},
     "output_type": "execute_result"
    }
   ],
   "source": [
    "d.length_structure"
   ]
  },
  {
   "cell_type": "code",
   "execution_count": 47,
   "metadata": {
    "ExecuteTime": {
     "end_time": "2021-03-29T13:10:13.183209Z",
     "start_time": "2021-03-29T13:10:13.163265Z"
    }
   },
   "outputs": [
    {
     "data": {
      "text/plain": [
       "[int]"
      ]
     },
     "execution_count": 47,
     "metadata": {},
     "output_type": "execute_result"
    }
   ],
   "source": [
    "d.type_structure"
   ]
  },
  {
   "cell_type": "markdown",
   "metadata": {},
   "source": [
    "### 構造から空のSSLを作る "
   ]
  },
  {
   "cell_type": "code",
   "execution_count": 48,
   "metadata": {
    "ExecuteTime": {
     "end_time": "2021-03-29T13:10:14.170457Z",
     "start_time": "2021-03-29T13:10:14.144429Z"
    }
   },
   "outputs": [
    {
     "data": {
      "text/plain": [
       "[]"
      ]
     },
     "execution_count": 48,
     "metadata": {},
     "output_type": "execute_result"
    }
   ],
   "source": [
    "e = StructureStrictList.from_structures([[int]],{2: {2: None}})\n",
    "e"
   ]
  },
  {
   "cell_type": "code",
   "execution_count": 49,
   "metadata": {
    "ExecuteTime": {
     "end_time": "2021-03-29T13:10:15.110735Z",
     "start_time": "2021-03-29T13:10:15.011469Z"
    }
   },
   "outputs": [
    {
     "ename": "Exception",
     "evalue": "This item is restricted for append",
     "output_type": "error",
     "traceback": [
      "\u001b[1;31m---------------------------------------------------------------------------\u001b[0m",
      "\u001b[1;31mException\u001b[0m                                 Traceback (most recent call last)",
      "\u001b[1;32m<ipython-input-49-0292b4a997ee>\u001b[0m in \u001b[0;36m<module>\u001b[1;34m\u001b[0m\n\u001b[1;32m----> 1\u001b[1;33m \u001b[0me\u001b[0m\u001b[1;33m.\u001b[0m\u001b[0mappend\u001b[0m\u001b[1;33m(\u001b[0m\u001b[1;36m1\u001b[0m\u001b[1;33m)\u001b[0m\u001b[1;33m\u001b[0m\u001b[1;33m\u001b[0m\u001b[0m\n\u001b[0m",
      "\u001b[1;32m<ipython-input-32-d83b9d7d31bc>\u001b[0m in \u001b[0;36mappend\u001b[1;34m(self, item)\u001b[0m\n\u001b[0;32m    195\u001b[0m     \u001b[1;32mdef\u001b[0m \u001b[0mappend\u001b[0m\u001b[1;33m(\u001b[0m\u001b[0mself\u001b[0m\u001b[1;33m,\u001b[0m \u001b[0mitem\u001b[0m\u001b[1;33m)\u001b[0m\u001b[1;33m:\u001b[0m\u001b[1;33m\u001b[0m\u001b[1;33m\u001b[0m\u001b[0m\n\u001b[0;32m    196\u001b[0m         \u001b[1;32mif\u001b[0m \u001b[1;32mnot\u001b[0m \u001b[0mself\u001b[0m\u001b[1;33m.\u001b[0m\u001b[0mcheck_item_structure\u001b[0m\u001b[1;33m(\u001b[0m\u001b[0mitem\u001b[0m\u001b[1;33m)\u001b[0m\u001b[1;33m:\u001b[0m\u001b[1;33m\u001b[0m\u001b[1;33m\u001b[0m\u001b[0m\n\u001b[1;32m--> 197\u001b[1;33m             \u001b[1;32mraise\u001b[0m \u001b[0mException\u001b[0m\u001b[1;33m(\u001b[0m\u001b[1;34m\"This item is restricted for append\"\u001b[0m\u001b[1;33m)\u001b[0m\u001b[1;33m\u001b[0m\u001b[1;33m\u001b[0m\u001b[0m\n\u001b[0m\u001b[0;32m    198\u001b[0m         \u001b[0msuper\u001b[0m\u001b[1;33m(\u001b[0m\u001b[0mStructureStrictList\u001b[0m\u001b[1;33m,\u001b[0m \u001b[0mself\u001b[0m\u001b[1;33m)\u001b[0m\u001b[1;33m.\u001b[0m\u001b[0mappend\u001b[0m\u001b[1;33m(\u001b[0m\u001b[0mitem\u001b[0m\u001b[1;33m)\u001b[0m\u001b[1;33m\u001b[0m\u001b[1;33m\u001b[0m\u001b[0m\n\u001b[0;32m    199\u001b[0m         \u001b[0mself\u001b[0m\u001b[1;33m.\u001b[0m\u001b[0m_get_structure\u001b[0m\u001b[1;33m(\u001b[0m\u001b[1;33m)\u001b[0m\u001b[1;33m\u001b[0m\u001b[1;33m\u001b[0m\u001b[0m\n",
      "\u001b[1;31mException\u001b[0m: This item is restricted for append"
     ]
    }
   ],
   "source": [
    "e.append(1)"
   ]
  },
  {
   "cell_type": "code",
   "execution_count": 50,
   "metadata": {
    "ExecuteTime": {
     "end_time": "2021-03-29T13:10:17.210381Z",
     "start_time": "2021-03-29T13:10:17.175477Z"
    }
   },
   "outputs": [
    {
     "data": {
      "text/plain": [
       "[[1, 2]]"
      ]
     },
     "execution_count": 50,
     "metadata": {},
     "output_type": "execute_result"
    }
   ],
   "source": [
    "e.append([1,2])\n",
    "e"
   ]
  },
  {
   "cell_type": "markdown",
   "metadata": {},
   "source": [
    "### セッターの定義時について "
   ]
  },
  {
   "cell_type": "markdown",
   "metadata": {},
   "source": [
    "リストをプロパティとする場合，セッターを"
   ]
  },
  {
   "cell_type": "markdown",
   "metadata": {},
   "source": [
    "```python\n",
    "@some_list.setter\n",
    "def some_list(self, __some_list):\n",
    "    if not self._some_list.check_same_structure_with(__some_list, include_outer_length=False):\n",
    "        raise Exception(\"This some_list is invalid\")\n",
    "    self._some_list = StructureStrictList.from_list(__some_list)\n",
    "```"
   ]
  },
  {
   "cell_type": "markdown",
   "metadata": {},
   "source": [
    "とすれば，型を比較しリストを更新できる．"
   ]
  },
  {
   "cell_type": "markdown",
   "metadata": {},
   "source": [
    "## 型が厳密なリスト "
   ]
  },
  {
   "cell_type": "code",
   "execution_count": 51,
   "metadata": {
    "ExecuteTime": {
     "end_time": "2021-03-29T13:10:44.842501Z",
     "start_time": "2021-03-29T13:10:44.777154Z"
    }
   },
   "outputs": [],
   "source": [
    "class TypeStrictList(StructureStrictList):\n",
    "    def _get_structure(self):\n",
    "        \"\"\"\n",
    "        構造を取得するためのメソッド．基本的に自身が変更されたときに呼ぶ\n",
    "        \"\"\"\n",
    "        self._type_structure = self._get_type_structure(self)\n",
    "    \n",
    "    def check_same_structure_with(self, list_like, include_outer_length=True):\n",
    "        \"\"\"\n",
    "        list_like: list like object\n",
    "            構造を自身と比較したいリスト\n",
    "        include_outer_length int\n",
    "            最も外側の長さを比較する構造に含めるかどうか．今回は意味ない\n",
    "        \"\"\"\n",
    "        try:\n",
    "            list_like_type_structure = self._get_type_structure(list_like)\n",
    "        except:  #構造の取得に失敗した場合\n",
    "            return False\n",
    "        is_same_type_structure = self._check_same_type_structure(self._type_structure, list_like_type_structure)\n",
    "        return is_same_type_structure\n",
    "    \n",
    "    def check_item_structure(self, item):\n",
    "        \"\"\"\n",
    "        item: any\n",
    "            構造を自身の要素と比較したい要素候補\n",
    "        \"\"\"\n",
    "        try:\n",
    "            item_type_structure = self._get_type_structure(item)\n",
    "        except:  #構造の取得に失敗した場合\n",
    "            return False\n",
    "        \n",
    "        # itemがリストの場合\n",
    "        if isinstance(item, list):\n",
    "            is_same_type_structure = self._check_same_type_structure(self._type_structure[0], item_type_structure)\n",
    "        else:\n",
    "            if not isinstance(self._type_structure[0], list):\n",
    "                is_same_type_structure = isinstance(item,self._type_structure[0])\n",
    "            else:\n",
    "                is_same_type_structure = False\n",
    "        \n",
    "        return is_same_type_structure\n",
    "    \n",
    "    @classmethod\n",
    "    def from_type_structure(cls, _type_structure):\n",
    "        \"\"\"\n",
    "        型構造構造から，空のStructureStrictListを作成\n",
    "        \"\"\"\n",
    "        instance = cls(None)\n",
    "        super(StructureStrictList, instance).remove(None)  # 親のスーパークラスのメソッド呼び出し\n",
    "        instance._type_structure = _type_structure\n",
    "        return instance"
   ]
  },
  {
   "cell_type": "code",
   "execution_count": 52,
   "metadata": {
    "ExecuteTime": {
     "end_time": "2021-03-29T13:10:45.718727Z",
     "start_time": "2021-03-29T13:10:45.595057Z"
    }
   },
   "outputs": [
    {
     "ename": "StructureInvalidError",
     "evalue": "list like object have to have same type items",
     "output_type": "error",
     "traceback": [
      "\u001b[1;31m---------------------------------------------------------------------------\u001b[0m",
      "\u001b[1;31mStructureInvalidError\u001b[0m                     Traceback (most recent call last)",
      "\u001b[1;32m<ipython-input-52-e265aa80b45c>\u001b[0m in \u001b[0;36m<module>\u001b[1;34m\u001b[0m\n\u001b[1;32m----> 1\u001b[1;33m \u001b[0ma\u001b[0m \u001b[1;33m=\u001b[0m \u001b[0mTypeStrictList\u001b[0m\u001b[1;33m(\u001b[0m\u001b[1;33m[\u001b[0m\u001b[1;34m\"a\"\u001b[0m\u001b[1;33m,\u001b[0m\u001b[1;34m\"b\"\u001b[0m\u001b[1;33m]\u001b[0m\u001b[1;33m,\u001b[0m\u001b[1;33m[\u001b[0m\u001b[1;36m1\u001b[0m\u001b[1;33m,\u001b[0m\u001b[1;36m2\u001b[0m\u001b[1;33m]\u001b[0m\u001b[1;33m)\u001b[0m\u001b[1;33m\u001b[0m\u001b[1;33m\u001b[0m\u001b[0m\n\u001b[0m",
      "\u001b[1;32m<ipython-input-32-d83b9d7d31bc>\u001b[0m in \u001b[0;36m__init__\u001b[1;34m(self, *args)\u001b[0m\n\u001b[0;32m      8\u001b[0m         \"\"\"\n\u001b[0;32m      9\u001b[0m         \u001b[0msuper\u001b[0m\u001b[1;33m(\u001b[0m\u001b[0mStructureStrictList\u001b[0m\u001b[1;33m,\u001b[0m \u001b[0mself\u001b[0m\u001b[1;33m)\u001b[0m\u001b[1;33m.\u001b[0m\u001b[0m__init__\u001b[0m\u001b[1;33m(\u001b[0m\u001b[0margs\u001b[0m\u001b[1;33m)\u001b[0m\u001b[1;33m\u001b[0m\u001b[1;33m\u001b[0m\u001b[0m\n\u001b[1;32m---> 10\u001b[1;33m         \u001b[0mself\u001b[0m\u001b[1;33m.\u001b[0m\u001b[0m_get_structure\u001b[0m\u001b[1;33m(\u001b[0m\u001b[1;33m)\u001b[0m  \u001b[1;31m# 構造を取得\u001b[0m\u001b[1;33m\u001b[0m\u001b[1;33m\u001b[0m\u001b[0m\n\u001b[0m\u001b[0;32m     11\u001b[0m \u001b[1;33m\u001b[0m\u001b[0m\n\u001b[0;32m     12\u001b[0m     \u001b[1;32mdef\u001b[0m \u001b[0m_get_structure\u001b[0m\u001b[1;33m(\u001b[0m\u001b[0mself\u001b[0m\u001b[1;33m)\u001b[0m\u001b[1;33m:\u001b[0m\u001b[1;33m\u001b[0m\u001b[1;33m\u001b[0m\u001b[0m\n",
      "\u001b[1;32m<ipython-input-51-e53e34044fd4>\u001b[0m in \u001b[0;36m_get_structure\u001b[1;34m(self)\u001b[0m\n\u001b[0;32m      4\u001b[0m         \u001b[0m構造を取得するためのメソッド\u001b[0m\u001b[0;31m．\u001b[0m\u001b[0m基本的に自身が変更されたときに呼ぶ\u001b[0m\u001b[1;33m\u001b[0m\u001b[1;33m\u001b[0m\u001b[0m\n\u001b[0;32m      5\u001b[0m         \"\"\"\n\u001b[1;32m----> 6\u001b[1;33m         \u001b[0mself\u001b[0m\u001b[1;33m.\u001b[0m\u001b[0m_type_structure\u001b[0m \u001b[1;33m=\u001b[0m \u001b[0mself\u001b[0m\u001b[1;33m.\u001b[0m\u001b[0m_get_type_structure\u001b[0m\u001b[1;33m(\u001b[0m\u001b[0mself\u001b[0m\u001b[1;33m)\u001b[0m\u001b[1;33m\u001b[0m\u001b[1;33m\u001b[0m\u001b[0m\n\u001b[0m\u001b[0;32m      7\u001b[0m \u001b[1;33m\u001b[0m\u001b[0m\n\u001b[0;32m      8\u001b[0m     \u001b[1;32mdef\u001b[0m \u001b[0mcheck_same_structure_with\u001b[0m\u001b[1;33m(\u001b[0m\u001b[0mself\u001b[0m\u001b[1;33m,\u001b[0m \u001b[0mlist_like\u001b[0m\u001b[1;33m,\u001b[0m \u001b[0minclude_outer_length\u001b[0m\u001b[1;33m=\u001b[0m\u001b[1;32mTrue\u001b[0m\u001b[1;33m)\u001b[0m\u001b[1;33m:\u001b[0m\u001b[1;33m\u001b[0m\u001b[1;33m\u001b[0m\u001b[0m\n",
      "\u001b[1;32m<ipython-input-32-d83b9d7d31bc>\u001b[0m in \u001b[0;36m_get_type_structure\u001b[1;34m(list_like)\u001b[0m\n\u001b[0;32m     42\u001b[0m                 \u001b[1;32mraise\u001b[0m \u001b[0mStructureInvalidError\u001b[0m\u001b[1;33m(\u001b[0m\u001b[1;34m\"list like object is enmty\"\u001b[0m\u001b[1;33m)\u001b[0m\u001b[1;33m\u001b[0m\u001b[1;33m\u001b[0m\u001b[0m\n\u001b[0;32m     43\u001b[0m             \u001b[1;32mif\u001b[0m \u001b[0mlen\u001b[0m\u001b[1;33m(\u001b[0m\u001b[0mset\u001b[0m\u001b[1;33m(\u001b[0m\u001b[0mall_type_list\u001b[0m\u001b[1;33m)\u001b[0m\u001b[1;33m)\u001b[0m \u001b[1;33m>\u001b[0m \u001b[1;36m1\u001b[0m\u001b[1;33m:\u001b[0m  \u001b[1;31m# リスト以外の型の種類が一つ以上の場合\u001b[0m\u001b[1;33m\u001b[0m\u001b[1;33m\u001b[0m\u001b[0m\n\u001b[1;32m---> 44\u001b[1;33m                 \u001b[1;32mraise\u001b[0m \u001b[0mStructureInvalidError\u001b[0m\u001b[1;33m(\u001b[0m\u001b[1;34m\"list like object have to have same type items\"\u001b[0m\u001b[1;33m)\u001b[0m\u001b[1;33m\u001b[0m\u001b[1;33m\u001b[0m\u001b[0m\n\u001b[0m\u001b[0;32m     45\u001b[0m \u001b[1;33m\u001b[0m\u001b[0m\n\u001b[0;32m     46\u001b[0m         \u001b[1;32mdef\u001b[0m \u001b[0mtype_dicision\u001b[0m\u001b[1;33m(\u001b[0m\u001b[0mitem\u001b[0m\u001b[1;33m)\u001b[0m\u001b[1;33m:\u001b[0m\u001b[1;33m\u001b[0m\u001b[1;33m\u001b[0m\u001b[0m\n",
      "\u001b[1;31mStructureInvalidError\u001b[0m: list like object have to have same type items"
     ]
    }
   ],
   "source": [
    "a = TypeStrictList([\"a\",\"b\"],[1,2])"
   ]
  },
  {
   "cell_type": "code",
   "execution_count": 53,
   "metadata": {
    "ExecuteTime": {
     "end_time": "2021-03-29T13:10:46.577518Z",
     "start_time": "2021-03-29T13:10:46.447863Z"
    }
   },
   "outputs": [
    {
     "ename": "StructureInvalidError",
     "evalue": "list like object have to have same type recursively",
     "output_type": "error",
     "traceback": [
      "\u001b[1;31m---------------------------------------------------------------------------\u001b[0m",
      "\u001b[1;31mStructureInvalidError\u001b[0m                     Traceback (most recent call last)",
      "\u001b[1;32m<ipython-input-53-2ef8de3b788c>\u001b[0m in \u001b[0;36m<module>\u001b[1;34m\u001b[0m\n\u001b[1;32m----> 1\u001b[1;33m \u001b[0ma\u001b[0m \u001b[1;33m=\u001b[0m \u001b[0mTypeStrictList\u001b[0m\u001b[1;33m(\u001b[0m\u001b[1;33m[\u001b[0m\u001b[1;34m\"a\"\u001b[0m\u001b[1;33m,\u001b[0m\u001b[1;34m\"b\"\u001b[0m\u001b[1;33m]\u001b[0m\u001b[1;33m,\u001b[0m\u001b[1;34m\"c\"\u001b[0m\u001b[1;33m)\u001b[0m\u001b[1;33m\u001b[0m\u001b[1;33m\u001b[0m\u001b[0m\n\u001b[0m",
      "\u001b[1;32m<ipython-input-32-d83b9d7d31bc>\u001b[0m in \u001b[0;36m__init__\u001b[1;34m(self, *args)\u001b[0m\n\u001b[0;32m      8\u001b[0m         \"\"\"\n\u001b[0;32m      9\u001b[0m         \u001b[0msuper\u001b[0m\u001b[1;33m(\u001b[0m\u001b[0mStructureStrictList\u001b[0m\u001b[1;33m,\u001b[0m \u001b[0mself\u001b[0m\u001b[1;33m)\u001b[0m\u001b[1;33m.\u001b[0m\u001b[0m__init__\u001b[0m\u001b[1;33m(\u001b[0m\u001b[0margs\u001b[0m\u001b[1;33m)\u001b[0m\u001b[1;33m\u001b[0m\u001b[1;33m\u001b[0m\u001b[0m\n\u001b[1;32m---> 10\u001b[1;33m         \u001b[0mself\u001b[0m\u001b[1;33m.\u001b[0m\u001b[0m_get_structure\u001b[0m\u001b[1;33m(\u001b[0m\u001b[1;33m)\u001b[0m  \u001b[1;31m# 構造を取得\u001b[0m\u001b[1;33m\u001b[0m\u001b[1;33m\u001b[0m\u001b[0m\n\u001b[0m\u001b[0;32m     11\u001b[0m \u001b[1;33m\u001b[0m\u001b[0m\n\u001b[0;32m     12\u001b[0m     \u001b[1;32mdef\u001b[0m \u001b[0m_get_structure\u001b[0m\u001b[1;33m(\u001b[0m\u001b[0mself\u001b[0m\u001b[1;33m)\u001b[0m\u001b[1;33m:\u001b[0m\u001b[1;33m\u001b[0m\u001b[1;33m\u001b[0m\u001b[0m\n",
      "\u001b[1;32m<ipython-input-51-e53e34044fd4>\u001b[0m in \u001b[0;36m_get_structure\u001b[1;34m(self)\u001b[0m\n\u001b[0;32m      4\u001b[0m         \u001b[0m構造を取得するためのメソッド\u001b[0m\u001b[0;31m．\u001b[0m\u001b[0m基本的に自身が変更されたときに呼ぶ\u001b[0m\u001b[1;33m\u001b[0m\u001b[1;33m\u001b[0m\u001b[0m\n\u001b[0;32m      5\u001b[0m         \"\"\"\n\u001b[1;32m----> 6\u001b[1;33m         \u001b[0mself\u001b[0m\u001b[1;33m.\u001b[0m\u001b[0m_type_structure\u001b[0m \u001b[1;33m=\u001b[0m \u001b[0mself\u001b[0m\u001b[1;33m.\u001b[0m\u001b[0m_get_type_structure\u001b[0m\u001b[1;33m(\u001b[0m\u001b[0mself\u001b[0m\u001b[1;33m)\u001b[0m\u001b[1;33m\u001b[0m\u001b[1;33m\u001b[0m\u001b[0m\n\u001b[0m\u001b[0;32m      7\u001b[0m \u001b[1;33m\u001b[0m\u001b[0m\n\u001b[0;32m      8\u001b[0m     \u001b[1;32mdef\u001b[0m \u001b[0mcheck_same_structure_with\u001b[0m\u001b[1;33m(\u001b[0m\u001b[0mself\u001b[0m\u001b[1;33m,\u001b[0m \u001b[0mlist_like\u001b[0m\u001b[1;33m,\u001b[0m \u001b[0minclude_outer_length\u001b[0m\u001b[1;33m=\u001b[0m\u001b[1;32mTrue\u001b[0m\u001b[1;33m)\u001b[0m\u001b[1;33m:\u001b[0m\u001b[1;33m\u001b[0m\u001b[1;33m\u001b[0m\u001b[0m\n",
      "\u001b[1;32m<ipython-input-32-d83b9d7d31bc>\u001b[0m in \u001b[0;36m_get_type_structure\u001b[1;34m(list_like)\u001b[0m\n\u001b[0;32m     37\u001b[0m \u001b[1;33m\u001b[0m\u001b[0m\n\u001b[0;32m     38\u001b[0m         \u001b[1;32mif\u001b[0m \u001b[0misinstance\u001b[0m\u001b[1;33m(\u001b[0m\u001b[0mlist_like\u001b[0m\u001b[1;33m,\u001b[0m \u001b[0mlist\u001b[0m\u001b[1;33m)\u001b[0m\u001b[1;33m:\u001b[0m  \u001b[1;31m# リストでないと以下の処理が意味ないため\u001b[0m\u001b[1;33m\u001b[0m\u001b[1;33m\u001b[0m\u001b[0m\n\u001b[1;32m---> 39\u001b[1;33m             \u001b[0mitem_have_same_type\u001b[0m\u001b[1;33m(\u001b[0m\u001b[0mlist_like\u001b[0m\u001b[1;33m)\u001b[0m  \u001b[1;31m# リスト内のそれぞれの型が違う場合エラーがでる．\u001b[0m\u001b[1;33m\u001b[0m\u001b[1;33m\u001b[0m\u001b[0m\n\u001b[0m\u001b[0;32m     40\u001b[0m \u001b[1;33m\u001b[0m\u001b[0m\n\u001b[0;32m     41\u001b[0m             \u001b[1;32mif\u001b[0m \u001b[0mlen\u001b[0m\u001b[1;33m(\u001b[0m\u001b[0mset\u001b[0m\u001b[1;33m(\u001b[0m\u001b[0mall_type_list\u001b[0m\u001b[1;33m)\u001b[0m\u001b[1;33m)\u001b[0m \u001b[1;33m==\u001b[0m \u001b[1;36m0\u001b[0m\u001b[1;33m:\u001b[0m  \u001b[1;31m# リスト以外の型が存在しない場合\u001b[0m\u001b[1;33m\u001b[0m\u001b[1;33m\u001b[0m\u001b[0m\n",
      "\u001b[1;32m<ipython-input-32-d83b9d7d31bc>\u001b[0m in \u001b[0;36mitem_have_same_type\u001b[1;34m(item)\u001b[0m\n\u001b[0;32m     34\u001b[0m                    \u001b[0mall_type_list\u001b[0m\u001b[1;33m.\u001b[0m\u001b[0mappend\u001b[0m\u001b[1;33m(\u001b[0m\u001b[0mtype\u001b[0m\u001b[1;33m(\u001b[0m\u001b[0mitem_child\u001b[0m\u001b[1;33m)\u001b[0m\u001b[1;33m)\u001b[0m\u001b[1;33m\u001b[0m\u001b[1;33m\u001b[0m\u001b[0m\n\u001b[0;32m     35\u001b[0m             \u001b[1;32mif\u001b[0m \u001b[0mlen\u001b[0m\u001b[1;33m(\u001b[0m\u001b[0mtype_list\u001b[0m\u001b[1;33m)\u001b[0m\u001b[1;33m!=\u001b[0m\u001b[1;36m0\u001b[0m \u001b[1;32mand\u001b[0m \u001b[0mlen\u001b[0m\u001b[1;33m(\u001b[0m\u001b[0mset\u001b[0m\u001b[1;33m(\u001b[0m\u001b[0mtype_list\u001b[0m\u001b[1;33m)\u001b[0m\u001b[1;33m)\u001b[0m\u001b[1;33m!=\u001b[0m\u001b[1;36m1\u001b[0m\u001b[1;33m:\u001b[0m\u001b[1;33m\u001b[0m\u001b[1;33m\u001b[0m\u001b[0m\n\u001b[1;32m---> 36\u001b[1;33m                 \u001b[1;32mraise\u001b[0m \u001b[0mStructureInvalidError\u001b[0m\u001b[1;33m(\u001b[0m\u001b[1;34m\"list like object have to have same type recursively\"\u001b[0m\u001b[1;33m)\u001b[0m\u001b[1;33m\u001b[0m\u001b[1;33m\u001b[0m\u001b[0m\n\u001b[0m\u001b[0;32m     37\u001b[0m \u001b[1;33m\u001b[0m\u001b[0m\n\u001b[0;32m     38\u001b[0m         \u001b[1;32mif\u001b[0m \u001b[0misinstance\u001b[0m\u001b[1;33m(\u001b[0m\u001b[0mlist_like\u001b[0m\u001b[1;33m,\u001b[0m \u001b[0mlist\u001b[0m\u001b[1;33m)\u001b[0m\u001b[1;33m:\u001b[0m  \u001b[1;31m# リストでないと以下の処理が意味ないため\u001b[0m\u001b[1;33m\u001b[0m\u001b[1;33m\u001b[0m\u001b[0m\n",
      "\u001b[1;31mStructureInvalidError\u001b[0m: list like object have to have same type recursively"
     ]
    }
   ],
   "source": [
    "a = TypeStrictList([\"a\",\"b\"],\"c\")"
   ]
  },
  {
   "cell_type": "code",
   "execution_count": 54,
   "metadata": {
    "ExecuteTime": {
     "end_time": "2021-03-29T13:10:47.309986Z",
     "start_time": "2021-03-29T13:10:47.288048Z"
    }
   },
   "outputs": [],
   "source": [
    "a = TypeStrictList([\"a\",\"b\"],[\"c\",\"d\"])"
   ]
  },
  {
   "cell_type": "code",
   "execution_count": 55,
   "metadata": {
    "ExecuteTime": {
     "end_time": "2021-03-29T13:10:47.954289Z",
     "start_time": "2021-03-29T13:10:47.930350Z"
    }
   },
   "outputs": [
    {
     "data": {
      "text/plain": [
       "[[str]]"
      ]
     },
     "execution_count": 55,
     "metadata": {},
     "output_type": "execute_result"
    }
   ],
   "source": [
    "a.type_structure"
   ]
  },
  {
   "cell_type": "markdown",
   "metadata": {},
   "source": [
    "### append "
   ]
  },
  {
   "cell_type": "code",
   "execution_count": 56,
   "metadata": {
    "ExecuteTime": {
     "end_time": "2021-03-29T13:10:48.978083Z",
     "start_time": "2021-03-29T13:10:48.914261Z"
    }
   },
   "outputs": [
    {
     "ename": "Exception",
     "evalue": "This item is restricted for append",
     "output_type": "error",
     "traceback": [
      "\u001b[1;31m---------------------------------------------------------------------------\u001b[0m",
      "\u001b[1;31mException\u001b[0m                                 Traceback (most recent call last)",
      "\u001b[1;32m<ipython-input-56-be817fbe9230>\u001b[0m in \u001b[0;36m<module>\u001b[1;34m\u001b[0m\n\u001b[1;32m----> 1\u001b[1;33m \u001b[0ma\u001b[0m\u001b[1;33m.\u001b[0m\u001b[0mappend\u001b[0m\u001b[1;33m(\u001b[0m\u001b[1;34m\"a\"\u001b[0m\u001b[1;33m)\u001b[0m\u001b[1;33m\u001b[0m\u001b[1;33m\u001b[0m\u001b[0m\n\u001b[0m",
      "\u001b[1;32m<ipython-input-32-d83b9d7d31bc>\u001b[0m in \u001b[0;36mappend\u001b[1;34m(self, item)\u001b[0m\n\u001b[0;32m    195\u001b[0m     \u001b[1;32mdef\u001b[0m \u001b[0mappend\u001b[0m\u001b[1;33m(\u001b[0m\u001b[0mself\u001b[0m\u001b[1;33m,\u001b[0m \u001b[0mitem\u001b[0m\u001b[1;33m)\u001b[0m\u001b[1;33m:\u001b[0m\u001b[1;33m\u001b[0m\u001b[1;33m\u001b[0m\u001b[0m\n\u001b[0;32m    196\u001b[0m         \u001b[1;32mif\u001b[0m \u001b[1;32mnot\u001b[0m \u001b[0mself\u001b[0m\u001b[1;33m.\u001b[0m\u001b[0mcheck_item_structure\u001b[0m\u001b[1;33m(\u001b[0m\u001b[0mitem\u001b[0m\u001b[1;33m)\u001b[0m\u001b[1;33m:\u001b[0m\u001b[1;33m\u001b[0m\u001b[1;33m\u001b[0m\u001b[0m\n\u001b[1;32m--> 197\u001b[1;33m             \u001b[1;32mraise\u001b[0m \u001b[0mException\u001b[0m\u001b[1;33m(\u001b[0m\u001b[1;34m\"This item is restricted for append\"\u001b[0m\u001b[1;33m)\u001b[0m\u001b[1;33m\u001b[0m\u001b[1;33m\u001b[0m\u001b[0m\n\u001b[0m\u001b[0;32m    198\u001b[0m         \u001b[0msuper\u001b[0m\u001b[1;33m(\u001b[0m\u001b[0mStructureStrictList\u001b[0m\u001b[1;33m,\u001b[0m \u001b[0mself\u001b[0m\u001b[1;33m)\u001b[0m\u001b[1;33m.\u001b[0m\u001b[0mappend\u001b[0m\u001b[1;33m(\u001b[0m\u001b[0mitem\u001b[0m\u001b[1;33m)\u001b[0m\u001b[1;33m\u001b[0m\u001b[1;33m\u001b[0m\u001b[0m\n\u001b[0;32m    199\u001b[0m         \u001b[0mself\u001b[0m\u001b[1;33m.\u001b[0m\u001b[0m_get_structure\u001b[0m\u001b[1;33m(\u001b[0m\u001b[1;33m)\u001b[0m\u001b[1;33m\u001b[0m\u001b[1;33m\u001b[0m\u001b[0m\n",
      "\u001b[1;31mException\u001b[0m: This item is restricted for append"
     ]
    }
   ],
   "source": [
    "a.append(\"a\")"
   ]
  },
  {
   "cell_type": "code",
   "execution_count": 57,
   "metadata": {
    "ExecuteTime": {
     "end_time": "2021-03-29T13:10:49.599490Z",
     "start_time": "2021-03-29T13:10:49.575567Z"
    }
   },
   "outputs": [
    {
     "data": {
      "text/plain": [
       "[['a', 'b'], ['c', 'd'], ['e']]"
      ]
     },
     "execution_count": 57,
     "metadata": {},
     "output_type": "execute_result"
    }
   ],
   "source": [
    "a.append([\"e\"])\n",
    "a"
   ]
  },
  {
   "cell_type": "markdown",
   "metadata": {},
   "source": [
    "### 構造から空のTSLを作成する"
   ]
  },
  {
   "cell_type": "code",
   "execution_count": 62,
   "metadata": {
    "ExecuteTime": {
     "end_time": "2021-03-29T13:11:43.080685Z",
     "start_time": "2021-03-29T13:11:43.063733Z"
    }
   },
   "outputs": [],
   "source": [
    "b = TypeStrictList.from_type_structure([str])"
   ]
  },
  {
   "cell_type": "code",
   "execution_count": 63,
   "metadata": {
    "ExecuteTime": {
     "end_time": "2021-03-29T13:11:43.332697Z",
     "start_time": "2021-03-29T13:11:43.302320Z"
    }
   },
   "outputs": [
    {
     "data": {
      "text/plain": [
       "[str]"
      ]
     },
     "execution_count": 63,
     "metadata": {},
     "output_type": "execute_result"
    }
   ],
   "source": [
    "b.type_structure"
   ]
  },
  {
   "cell_type": "code",
   "execution_count": 64,
   "metadata": {
    "ExecuteTime": {
     "end_time": "2021-03-29T13:11:44.120516Z",
     "start_time": "2021-03-29T13:11:44.047711Z"
    }
   },
   "outputs": [
    {
     "ename": "Exception",
     "evalue": "This item is restricted for append",
     "output_type": "error",
     "traceback": [
      "\u001b[1;31m---------------------------------------------------------------------------\u001b[0m",
      "\u001b[1;31mException\u001b[0m                                 Traceback (most recent call last)",
      "\u001b[1;32m<ipython-input-64-ea8bf38fa590>\u001b[0m in \u001b[0;36m<module>\u001b[1;34m\u001b[0m\n\u001b[1;32m----> 1\u001b[1;33m \u001b[0mb\u001b[0m\u001b[1;33m.\u001b[0m\u001b[0mappend\u001b[0m\u001b[1;33m(\u001b[0m\u001b[1;33m[\u001b[0m\u001b[1;34m\"c\"\u001b[0m\u001b[1;33m]\u001b[0m\u001b[1;33m)\u001b[0m\u001b[1;33m\u001b[0m\u001b[1;33m\u001b[0m\u001b[0m\n\u001b[0m",
      "\u001b[1;32m<ipython-input-32-d83b9d7d31bc>\u001b[0m in \u001b[0;36mappend\u001b[1;34m(self, item)\u001b[0m\n\u001b[0;32m    195\u001b[0m     \u001b[1;32mdef\u001b[0m \u001b[0mappend\u001b[0m\u001b[1;33m(\u001b[0m\u001b[0mself\u001b[0m\u001b[1;33m,\u001b[0m \u001b[0mitem\u001b[0m\u001b[1;33m)\u001b[0m\u001b[1;33m:\u001b[0m\u001b[1;33m\u001b[0m\u001b[1;33m\u001b[0m\u001b[0m\n\u001b[0;32m    196\u001b[0m         \u001b[1;32mif\u001b[0m \u001b[1;32mnot\u001b[0m \u001b[0mself\u001b[0m\u001b[1;33m.\u001b[0m\u001b[0mcheck_item_structure\u001b[0m\u001b[1;33m(\u001b[0m\u001b[0mitem\u001b[0m\u001b[1;33m)\u001b[0m\u001b[1;33m:\u001b[0m\u001b[1;33m\u001b[0m\u001b[1;33m\u001b[0m\u001b[0m\n\u001b[1;32m--> 197\u001b[1;33m             \u001b[1;32mraise\u001b[0m \u001b[0mException\u001b[0m\u001b[1;33m(\u001b[0m\u001b[1;34m\"This item is restricted for append\"\u001b[0m\u001b[1;33m)\u001b[0m\u001b[1;33m\u001b[0m\u001b[1;33m\u001b[0m\u001b[0m\n\u001b[0m\u001b[0;32m    198\u001b[0m         \u001b[0msuper\u001b[0m\u001b[1;33m(\u001b[0m\u001b[0mStructureStrictList\u001b[0m\u001b[1;33m,\u001b[0m \u001b[0mself\u001b[0m\u001b[1;33m)\u001b[0m\u001b[1;33m.\u001b[0m\u001b[0mappend\u001b[0m\u001b[1;33m(\u001b[0m\u001b[0mitem\u001b[0m\u001b[1;33m)\u001b[0m\u001b[1;33m\u001b[0m\u001b[1;33m\u001b[0m\u001b[0m\n\u001b[0;32m    199\u001b[0m         \u001b[0mself\u001b[0m\u001b[1;33m.\u001b[0m\u001b[0m_get_structure\u001b[0m\u001b[1;33m(\u001b[0m\u001b[1;33m)\u001b[0m\u001b[1;33m\u001b[0m\u001b[1;33m\u001b[0m\u001b[0m\n",
      "\u001b[1;31mException\u001b[0m: This item is restricted for append"
     ]
    }
   ],
   "source": [
    "b.append([\"c\"])"
   ]
  },
  {
   "cell_type": "code",
   "execution_count": 65,
   "metadata": {
    "ExecuteTime": {
     "end_time": "2021-03-29T13:11:47.251037Z",
     "start_time": "2021-03-29T13:11:47.224111Z"
    }
   },
   "outputs": [
    {
     "data": {
      "text/plain": [
       "['a']"
      ]
     },
     "execution_count": 65,
     "metadata": {},
     "output_type": "execute_result"
    }
   ],
   "source": [
    "b.append(\"a\")\n",
    "b"
   ]
  },
  {
   "cell_type": "markdown",
   "metadata": {},
   "source": [
    "## 長さが厳密なリスト"
   ]
  },
  {
   "cell_type": "code",
   "execution_count": 66,
   "metadata": {
    "ExecuteTime": {
     "end_time": "2021-03-29T13:11:52.233915Z",
     "start_time": "2021-03-29T13:11:52.150140Z"
    }
   },
   "outputs": [],
   "source": [
    "class LengthStrictList(StructureStrictList):\n",
    "    def _get_structure(self):\n",
    "        \"\"\"\n",
    "        構造を取得するためのメソッド．基本的に自身が変更されたときに呼ぶ\n",
    "        \"\"\"\n",
    "        self._length_structure = self._get_length_structure(self)\n",
    "       \n",
    "    def check_same_structure_with(self, list_like, include_outer_length=True):\n",
    "        \"\"\"\n",
    "        list_like: list like object\n",
    "            構造を自身と比較したいリスト\n",
    "        include_outer_length int\n",
    "            最も外側の長さを比較する構造に含めるかどうか．\n",
    "        \"\"\"\n",
    "        try:\n",
    "            list_like_length_structure = self._get_length_structure(list_like)\n",
    "        except:  #構造の取得に失敗した場合\n",
    "            return False\n",
    "        if include_outer_length: # 一番外側の比較も行う\n",
    "            is_same_length_structure = self._check_same_length_structure(self._length_structure,\n",
    "                                                                         list_like_length_structure\n",
    "                                                                        ) \n",
    "\n",
    "        else:  # 一番外側の比較は行わない\n",
    "            is_same_length_structure = self._check_same_length_structure(self._length_structure[list(self._length_structure.keys())[0]],\n",
    "                                                                         list_like_length_structure[list(list_like_length_structure.keys())[0]]\n",
    "                                                                        )\n",
    "\n",
    "        return is_same_length_structure\n",
    "    \n",
    "    def check_item_structure(self, item):\n",
    "        \"\"\"\n",
    "        item: any\n",
    "            構造を自身の要素と比較したい要素候補\n",
    "        \"\"\"\n",
    "        try:\n",
    "            item_length_structure = self._get_length_structure(item)\n",
    "        except:  #構造の取得に失敗した場合\n",
    "            return False\n",
    "        # itemがリストの場合\n",
    "        if isinstance(item, list):\n",
    "            is_same_length_structure = self._check_same_length_structure(self._length_structure[list(self._length_structure.keys())[0]],\n",
    "                                                                         item_length_structure)\n",
    "        else:\n",
    "            is_same_length_structure = True\n",
    "        \n",
    "        return is_same_length_structure\n",
    "    \n",
    "    @classmethod\n",
    "    def from_length_structure(cls, _length_structure):\n",
    "        instance = cls(None)\n",
    "        super(StructureStrictList, instance).remove(None)  # 親のスーパークラスのメソッド呼び出し\n",
    "        instance._length_structure = _length_structure\n",
    "        return instance"
   ]
  },
  {
   "cell_type": "code",
   "execution_count": 67,
   "metadata": {
    "ExecuteTime": {
     "end_time": "2021-03-29T13:11:53.095700Z",
     "start_time": "2021-03-29T13:11:52.949091Z"
    }
   },
   "outputs": [
    {
     "ename": "StructureInvalidError",
     "evalue": "list like object have to have same length recursively",
     "output_type": "error",
     "traceback": [
      "\u001b[1;31m---------------------------------------------------------------------------\u001b[0m",
      "\u001b[1;31mStructureInvalidError\u001b[0m                     Traceback (most recent call last)",
      "\u001b[1;32m<ipython-input-67-2fd35d765fe9>\u001b[0m in \u001b[0;36m<module>\u001b[1;34m\u001b[0m\n\u001b[1;32m----> 1\u001b[1;33m \u001b[0ma\u001b[0m \u001b[1;33m=\u001b[0m \u001b[0mLengthStrictList\u001b[0m\u001b[1;33m(\u001b[0m\u001b[1;33m[\u001b[0m\u001b[1;36m1\u001b[0m\u001b[1;33m,\u001b[0m\u001b[1;36m2\u001b[0m\u001b[1;33m,\u001b[0m\u001b[1;36m3\u001b[0m\u001b[1;33m]\u001b[0m\u001b[1;33m,\u001b[0m\u001b[1;33m[\u001b[0m\u001b[1;36m1\u001b[0m\u001b[1;33m,\u001b[0m\u001b[1;36m2\u001b[0m\u001b[1;33m]\u001b[0m\u001b[1;33m)\u001b[0m\u001b[1;33m\u001b[0m\u001b[1;33m\u001b[0m\u001b[0m\n\u001b[0m",
      "\u001b[1;32m<ipython-input-32-d83b9d7d31bc>\u001b[0m in \u001b[0;36m__init__\u001b[1;34m(self, *args)\u001b[0m\n\u001b[0;32m      8\u001b[0m         \"\"\"\n\u001b[0;32m      9\u001b[0m         \u001b[0msuper\u001b[0m\u001b[1;33m(\u001b[0m\u001b[0mStructureStrictList\u001b[0m\u001b[1;33m,\u001b[0m \u001b[0mself\u001b[0m\u001b[1;33m)\u001b[0m\u001b[1;33m.\u001b[0m\u001b[0m__init__\u001b[0m\u001b[1;33m(\u001b[0m\u001b[0margs\u001b[0m\u001b[1;33m)\u001b[0m\u001b[1;33m\u001b[0m\u001b[1;33m\u001b[0m\u001b[0m\n\u001b[1;32m---> 10\u001b[1;33m         \u001b[0mself\u001b[0m\u001b[1;33m.\u001b[0m\u001b[0m_get_structure\u001b[0m\u001b[1;33m(\u001b[0m\u001b[1;33m)\u001b[0m  \u001b[1;31m# 構造を取得\u001b[0m\u001b[1;33m\u001b[0m\u001b[1;33m\u001b[0m\u001b[0m\n\u001b[0m\u001b[0;32m     11\u001b[0m \u001b[1;33m\u001b[0m\u001b[0m\n\u001b[0;32m     12\u001b[0m     \u001b[1;32mdef\u001b[0m \u001b[0m_get_structure\u001b[0m\u001b[1;33m(\u001b[0m\u001b[0mself\u001b[0m\u001b[1;33m)\u001b[0m\u001b[1;33m:\u001b[0m\u001b[1;33m\u001b[0m\u001b[1;33m\u001b[0m\u001b[0m\n",
      "\u001b[1;32m<ipython-input-66-fcedf1fd2ad8>\u001b[0m in \u001b[0;36m_get_structure\u001b[1;34m(self)\u001b[0m\n\u001b[0;32m      4\u001b[0m         \u001b[0m構造を取得するためのメソッド\u001b[0m\u001b[0;31m．\u001b[0m\u001b[0m基本的に自身が変更されたときに呼ぶ\u001b[0m\u001b[1;33m\u001b[0m\u001b[1;33m\u001b[0m\u001b[0m\n\u001b[0;32m      5\u001b[0m         \"\"\"\n\u001b[1;32m----> 6\u001b[1;33m         \u001b[0mself\u001b[0m\u001b[1;33m.\u001b[0m\u001b[0m_length_structure\u001b[0m \u001b[1;33m=\u001b[0m \u001b[0mself\u001b[0m\u001b[1;33m.\u001b[0m\u001b[0m_get_length_structure\u001b[0m\u001b[1;33m(\u001b[0m\u001b[0mself\u001b[0m\u001b[1;33m)\u001b[0m\u001b[1;33m\u001b[0m\u001b[1;33m\u001b[0m\u001b[0m\n\u001b[0m\u001b[0;32m      7\u001b[0m \u001b[1;33m\u001b[0m\u001b[0m\n\u001b[0;32m      8\u001b[0m     \u001b[1;32mdef\u001b[0m \u001b[0mcheck_same_structure_with\u001b[0m\u001b[1;33m(\u001b[0m\u001b[0mself\u001b[0m\u001b[1;33m,\u001b[0m \u001b[0mlist_like\u001b[0m\u001b[1;33m,\u001b[0m \u001b[0minclude_outer_length\u001b[0m\u001b[1;33m=\u001b[0m\u001b[1;32mTrue\u001b[0m\u001b[1;33m)\u001b[0m\u001b[1;33m:\u001b[0m\u001b[1;33m\u001b[0m\u001b[1;33m\u001b[0m\u001b[0m\n",
      "\u001b[1;32m<ipython-input-32-d83b9d7d31bc>\u001b[0m in \u001b[0;36m_get_length_structure\u001b[1;34m(list_like)\u001b[0m\n\u001b[0;32m     67\u001b[0m \u001b[1;33m\u001b[0m\u001b[0m\n\u001b[0;32m     68\u001b[0m         \u001b[1;32mif\u001b[0m \u001b[0misinstance\u001b[0m\u001b[1;33m(\u001b[0m\u001b[0mlist_like\u001b[0m\u001b[1;33m,\u001b[0m \u001b[0mlist\u001b[0m\u001b[1;33m)\u001b[0m\u001b[1;33m:\u001b[0m\u001b[1;33m\u001b[0m\u001b[1;33m\u001b[0m\u001b[0m\n\u001b[1;32m---> 69\u001b[1;33m             \u001b[0mitem_have_same_length\u001b[0m\u001b[1;33m(\u001b[0m\u001b[0mlist_like\u001b[0m\u001b[1;33m)\u001b[0m  \u001b[1;31m# 長さが違う場合エラーがでる．\u001b[0m\u001b[1;33m\u001b[0m\u001b[1;33m\u001b[0m\u001b[0m\n\u001b[0m\u001b[0;32m     70\u001b[0m \u001b[1;33m\u001b[0m\u001b[0m\n\u001b[0;32m     71\u001b[0m         \u001b[1;32mdef\u001b[0m \u001b[0mlength_dicision\u001b[0m\u001b[1;33m(\u001b[0m\u001b[0mitem\u001b[0m\u001b[1;33m,\u001b[0m \u001b[0mstructure_dict\u001b[0m\u001b[1;33m)\u001b[0m\u001b[1;33m:\u001b[0m\u001b[1;33m\u001b[0m\u001b[1;33m\u001b[0m\u001b[0m\n",
      "\u001b[1;32m<ipython-input-32-d83b9d7d31bc>\u001b[0m in \u001b[0;36mitem_have_same_length\u001b[1;34m(item)\u001b[0m\n\u001b[0;32m     64\u001b[0m                     \u001b[0mitem_have_same_length\u001b[0m\u001b[1;33m(\u001b[0m\u001b[0mitem_child\u001b[0m\u001b[1;33m)\u001b[0m\u001b[1;33m\u001b[0m\u001b[1;33m\u001b[0m\u001b[0m\n\u001b[0;32m     65\u001b[0m             \u001b[1;32mif\u001b[0m \u001b[0mlen\u001b[0m\u001b[1;33m(\u001b[0m\u001b[0mlength_list\u001b[0m\u001b[1;33m)\u001b[0m\u001b[1;33m!=\u001b[0m\u001b[1;36m0\u001b[0m \u001b[1;32mand\u001b[0m \u001b[0mlen\u001b[0m\u001b[1;33m(\u001b[0m\u001b[0mset\u001b[0m\u001b[1;33m(\u001b[0m\u001b[0mlength_list\u001b[0m\u001b[1;33m)\u001b[0m\u001b[1;33m)\u001b[0m\u001b[1;33m!=\u001b[0m\u001b[1;36m1\u001b[0m\u001b[1;33m:\u001b[0m\u001b[1;33m\u001b[0m\u001b[1;33m\u001b[0m\u001b[0m\n\u001b[1;32m---> 66\u001b[1;33m                 \u001b[1;32mraise\u001b[0m \u001b[0mStructureInvalidError\u001b[0m\u001b[1;33m(\u001b[0m\u001b[1;34m\"list like object have to have same length recursively\"\u001b[0m\u001b[1;33m)\u001b[0m\u001b[1;33m\u001b[0m\u001b[1;33m\u001b[0m\u001b[0m\n\u001b[0m\u001b[0;32m     67\u001b[0m \u001b[1;33m\u001b[0m\u001b[0m\n\u001b[0;32m     68\u001b[0m         \u001b[1;32mif\u001b[0m \u001b[0misinstance\u001b[0m\u001b[1;33m(\u001b[0m\u001b[0mlist_like\u001b[0m\u001b[1;33m,\u001b[0m \u001b[0mlist\u001b[0m\u001b[1;33m)\u001b[0m\u001b[1;33m:\u001b[0m\u001b[1;33m\u001b[0m\u001b[1;33m\u001b[0m\u001b[0m\n",
      "\u001b[1;31mStructureInvalidError\u001b[0m: list like object have to have same length recursively"
     ]
    }
   ],
   "source": [
    "a = LengthStrictList([1,2,3],[1,2])"
   ]
  },
  {
   "cell_type": "code",
   "execution_count": 68,
   "metadata": {
    "ExecuteTime": {
     "end_time": "2021-03-29T13:11:54.509170Z",
     "start_time": "2021-03-29T13:11:54.283727Z"
    }
   },
   "outputs": [
    {
     "ename": "StructureInvalidError",
     "evalue": "list like object have to have same length recursively",
     "output_type": "error",
     "traceback": [
      "\u001b[1;31m---------------------------------------------------------------------------\u001b[0m",
      "\u001b[1;31mStructureInvalidError\u001b[0m                     Traceback (most recent call last)",
      "\u001b[1;32m<ipython-input-68-d07a1ab9ed5c>\u001b[0m in \u001b[0;36m<module>\u001b[1;34m\u001b[0m\n\u001b[1;32m----> 1\u001b[1;33m \u001b[0ma\u001b[0m \u001b[1;33m=\u001b[0m \u001b[0mLengthStrictList\u001b[0m\u001b[1;33m(\u001b[0m\u001b[1;33m[\u001b[0m\u001b[1;33m[\u001b[0m\u001b[1;36m1\u001b[0m\u001b[1;33m,\u001b[0m\u001b[1;36m2\u001b[0m\u001b[1;33m,\u001b[0m\u001b[1;36m3\u001b[0m\u001b[1;33m]\u001b[0m\u001b[1;33m,\u001b[0m\u001b[1;33m[\u001b[0m\u001b[1;36m1\u001b[0m\u001b[1;33m,\u001b[0m\u001b[1;36m2\u001b[0m\u001b[1;33m]\u001b[0m\u001b[1;33m]\u001b[0m\u001b[1;33m)\u001b[0m\u001b[1;33m\u001b[0m\u001b[1;33m\u001b[0m\u001b[0m\n\u001b[0m",
      "\u001b[1;32m<ipython-input-32-d83b9d7d31bc>\u001b[0m in \u001b[0;36m__init__\u001b[1;34m(self, *args)\u001b[0m\n\u001b[0;32m      8\u001b[0m         \"\"\"\n\u001b[0;32m      9\u001b[0m         \u001b[0msuper\u001b[0m\u001b[1;33m(\u001b[0m\u001b[0mStructureStrictList\u001b[0m\u001b[1;33m,\u001b[0m \u001b[0mself\u001b[0m\u001b[1;33m)\u001b[0m\u001b[1;33m.\u001b[0m\u001b[0m__init__\u001b[0m\u001b[1;33m(\u001b[0m\u001b[0margs\u001b[0m\u001b[1;33m)\u001b[0m\u001b[1;33m\u001b[0m\u001b[1;33m\u001b[0m\u001b[0m\n\u001b[1;32m---> 10\u001b[1;33m         \u001b[0mself\u001b[0m\u001b[1;33m.\u001b[0m\u001b[0m_get_structure\u001b[0m\u001b[1;33m(\u001b[0m\u001b[1;33m)\u001b[0m  \u001b[1;31m# 構造を取得\u001b[0m\u001b[1;33m\u001b[0m\u001b[1;33m\u001b[0m\u001b[0m\n\u001b[0m\u001b[0;32m     11\u001b[0m \u001b[1;33m\u001b[0m\u001b[0m\n\u001b[0;32m     12\u001b[0m     \u001b[1;32mdef\u001b[0m \u001b[0m_get_structure\u001b[0m\u001b[1;33m(\u001b[0m\u001b[0mself\u001b[0m\u001b[1;33m)\u001b[0m\u001b[1;33m:\u001b[0m\u001b[1;33m\u001b[0m\u001b[1;33m\u001b[0m\u001b[0m\n",
      "\u001b[1;32m<ipython-input-66-fcedf1fd2ad8>\u001b[0m in \u001b[0;36m_get_structure\u001b[1;34m(self)\u001b[0m\n\u001b[0;32m      4\u001b[0m         \u001b[0m構造を取得するためのメソッド\u001b[0m\u001b[0;31m．\u001b[0m\u001b[0m基本的に自身が変更されたときに呼ぶ\u001b[0m\u001b[1;33m\u001b[0m\u001b[1;33m\u001b[0m\u001b[0m\n\u001b[0;32m      5\u001b[0m         \"\"\"\n\u001b[1;32m----> 6\u001b[1;33m         \u001b[0mself\u001b[0m\u001b[1;33m.\u001b[0m\u001b[0m_length_structure\u001b[0m \u001b[1;33m=\u001b[0m \u001b[0mself\u001b[0m\u001b[1;33m.\u001b[0m\u001b[0m_get_length_structure\u001b[0m\u001b[1;33m(\u001b[0m\u001b[0mself\u001b[0m\u001b[1;33m)\u001b[0m\u001b[1;33m\u001b[0m\u001b[1;33m\u001b[0m\u001b[0m\n\u001b[0m\u001b[0;32m      7\u001b[0m \u001b[1;33m\u001b[0m\u001b[0m\n\u001b[0;32m      8\u001b[0m     \u001b[1;32mdef\u001b[0m \u001b[0mcheck_same_structure_with\u001b[0m\u001b[1;33m(\u001b[0m\u001b[0mself\u001b[0m\u001b[1;33m,\u001b[0m \u001b[0mlist_like\u001b[0m\u001b[1;33m,\u001b[0m \u001b[0minclude_outer_length\u001b[0m\u001b[1;33m=\u001b[0m\u001b[1;32mTrue\u001b[0m\u001b[1;33m)\u001b[0m\u001b[1;33m:\u001b[0m\u001b[1;33m\u001b[0m\u001b[1;33m\u001b[0m\u001b[0m\n",
      "\u001b[1;32m<ipython-input-32-d83b9d7d31bc>\u001b[0m in \u001b[0;36m_get_length_structure\u001b[1;34m(list_like)\u001b[0m\n\u001b[0;32m     67\u001b[0m \u001b[1;33m\u001b[0m\u001b[0m\n\u001b[0;32m     68\u001b[0m         \u001b[1;32mif\u001b[0m \u001b[0misinstance\u001b[0m\u001b[1;33m(\u001b[0m\u001b[0mlist_like\u001b[0m\u001b[1;33m,\u001b[0m \u001b[0mlist\u001b[0m\u001b[1;33m)\u001b[0m\u001b[1;33m:\u001b[0m\u001b[1;33m\u001b[0m\u001b[1;33m\u001b[0m\u001b[0m\n\u001b[1;32m---> 69\u001b[1;33m             \u001b[0mitem_have_same_length\u001b[0m\u001b[1;33m(\u001b[0m\u001b[0mlist_like\u001b[0m\u001b[1;33m)\u001b[0m  \u001b[1;31m# 長さが違う場合エラーがでる．\u001b[0m\u001b[1;33m\u001b[0m\u001b[1;33m\u001b[0m\u001b[0m\n\u001b[0m\u001b[0;32m     70\u001b[0m \u001b[1;33m\u001b[0m\u001b[0m\n\u001b[0;32m     71\u001b[0m         \u001b[1;32mdef\u001b[0m \u001b[0mlength_dicision\u001b[0m\u001b[1;33m(\u001b[0m\u001b[0mitem\u001b[0m\u001b[1;33m,\u001b[0m \u001b[0mstructure_dict\u001b[0m\u001b[1;33m)\u001b[0m\u001b[1;33m:\u001b[0m\u001b[1;33m\u001b[0m\u001b[1;33m\u001b[0m\u001b[0m\n",
      "\u001b[1;32m<ipython-input-32-d83b9d7d31bc>\u001b[0m in \u001b[0;36mitem_have_same_length\u001b[1;34m(item)\u001b[0m\n\u001b[0;32m     62\u001b[0m                 \u001b[1;32mif\u001b[0m \u001b[0misinstance\u001b[0m\u001b[1;33m(\u001b[0m\u001b[0mitem_child\u001b[0m\u001b[1;33m,\u001b[0m \u001b[0mlist\u001b[0m\u001b[1;33m)\u001b[0m\u001b[1;33m:\u001b[0m\u001b[1;33m\u001b[0m\u001b[1;33m\u001b[0m\u001b[0m\n\u001b[0;32m     63\u001b[0m                     \u001b[0mlength_list\u001b[0m\u001b[1;33m.\u001b[0m\u001b[0mappend\u001b[0m\u001b[1;33m(\u001b[0m\u001b[0mlen\u001b[0m\u001b[1;33m(\u001b[0m\u001b[0mitem_child\u001b[0m\u001b[1;33m)\u001b[0m\u001b[1;33m)\u001b[0m\u001b[1;33m\u001b[0m\u001b[1;33m\u001b[0m\u001b[0m\n\u001b[1;32m---> 64\u001b[1;33m                     \u001b[0mitem_have_same_length\u001b[0m\u001b[1;33m(\u001b[0m\u001b[0mitem_child\u001b[0m\u001b[1;33m)\u001b[0m\u001b[1;33m\u001b[0m\u001b[1;33m\u001b[0m\u001b[0m\n\u001b[0m\u001b[0;32m     65\u001b[0m             \u001b[1;32mif\u001b[0m \u001b[0mlen\u001b[0m\u001b[1;33m(\u001b[0m\u001b[0mlength_list\u001b[0m\u001b[1;33m)\u001b[0m\u001b[1;33m!=\u001b[0m\u001b[1;36m0\u001b[0m \u001b[1;32mand\u001b[0m \u001b[0mlen\u001b[0m\u001b[1;33m(\u001b[0m\u001b[0mset\u001b[0m\u001b[1;33m(\u001b[0m\u001b[0mlength_list\u001b[0m\u001b[1;33m)\u001b[0m\u001b[1;33m)\u001b[0m\u001b[1;33m!=\u001b[0m\u001b[1;36m1\u001b[0m\u001b[1;33m:\u001b[0m\u001b[1;33m\u001b[0m\u001b[1;33m\u001b[0m\u001b[0m\n\u001b[0;32m     66\u001b[0m                 \u001b[1;32mraise\u001b[0m \u001b[0mStructureInvalidError\u001b[0m\u001b[1;33m(\u001b[0m\u001b[1;34m\"list like object have to have same length recursively\"\u001b[0m\u001b[1;33m)\u001b[0m\u001b[1;33m\u001b[0m\u001b[1;33m\u001b[0m\u001b[0m\n",
      "\u001b[1;32m<ipython-input-32-d83b9d7d31bc>\u001b[0m in \u001b[0;36mitem_have_same_length\u001b[1;34m(item)\u001b[0m\n\u001b[0;32m     64\u001b[0m                     \u001b[0mitem_have_same_length\u001b[0m\u001b[1;33m(\u001b[0m\u001b[0mitem_child\u001b[0m\u001b[1;33m)\u001b[0m\u001b[1;33m\u001b[0m\u001b[1;33m\u001b[0m\u001b[0m\n\u001b[0;32m     65\u001b[0m             \u001b[1;32mif\u001b[0m \u001b[0mlen\u001b[0m\u001b[1;33m(\u001b[0m\u001b[0mlength_list\u001b[0m\u001b[1;33m)\u001b[0m\u001b[1;33m!=\u001b[0m\u001b[1;36m0\u001b[0m \u001b[1;32mand\u001b[0m \u001b[0mlen\u001b[0m\u001b[1;33m(\u001b[0m\u001b[0mset\u001b[0m\u001b[1;33m(\u001b[0m\u001b[0mlength_list\u001b[0m\u001b[1;33m)\u001b[0m\u001b[1;33m)\u001b[0m\u001b[1;33m!=\u001b[0m\u001b[1;36m1\u001b[0m\u001b[1;33m:\u001b[0m\u001b[1;33m\u001b[0m\u001b[1;33m\u001b[0m\u001b[0m\n\u001b[1;32m---> 66\u001b[1;33m                 \u001b[1;32mraise\u001b[0m \u001b[0mStructureInvalidError\u001b[0m\u001b[1;33m(\u001b[0m\u001b[1;34m\"list like object have to have same length recursively\"\u001b[0m\u001b[1;33m)\u001b[0m\u001b[1;33m\u001b[0m\u001b[1;33m\u001b[0m\u001b[0m\n\u001b[0m\u001b[0;32m     67\u001b[0m \u001b[1;33m\u001b[0m\u001b[0m\n\u001b[0;32m     68\u001b[0m         \u001b[1;32mif\u001b[0m \u001b[0misinstance\u001b[0m\u001b[1;33m(\u001b[0m\u001b[0mlist_like\u001b[0m\u001b[1;33m,\u001b[0m \u001b[0mlist\u001b[0m\u001b[1;33m)\u001b[0m\u001b[1;33m:\u001b[0m\u001b[1;33m\u001b[0m\u001b[1;33m\u001b[0m\u001b[0m\n",
      "\u001b[1;31mStructureInvalidError\u001b[0m: list like object have to have same length recursively"
     ]
    }
   ],
   "source": [
    "a = LengthStrictList([[1,2,3],[1,2]])"
   ]
  },
  {
   "cell_type": "code",
   "execution_count": 69,
   "metadata": {
    "ExecuteTime": {
     "end_time": "2021-03-29T13:11:55.553986Z",
     "start_time": "2021-03-29T13:11:55.519081Z"
    }
   },
   "outputs": [
    {
     "data": {
      "text/plain": [
       "[[2, 3], [1, 2]]"
      ]
     },
     "execution_count": 69,
     "metadata": {},
     "output_type": "execute_result"
    }
   ],
   "source": [
    "a = LengthStrictList([2,3],[1,2])\n",
    "a"
   ]
  }
 ],
 "metadata": {
  "kernelspec": {
   "display_name": "torch_py37",
   "language": "python",
   "name": "torch_py37"
  },
  "language_info": {
   "codemirror_mode": {
    "name": "ipython",
    "version": 3
   },
   "file_extension": ".py",
   "mimetype": "text/x-python",
   "name": "python",
   "nbconvert_exporter": "python",
   "pygments_lexer": "ipython3",
   "version": "3.7.4"
  },
  "toc": {
   "base_numbering": 1,
   "nav_menu": {},
   "number_sections": true,
   "sideBar": true,
   "skip_h1_title": true,
   "title_cell": "Table of Contents",
   "title_sidebar": "Contents",
   "toc_cell": false,
   "toc_position": {},
   "toc_section_display": true,
   "toc_window_display": false
  }
 },
 "nbformat": 4,
 "nbformat_minor": 4
}
